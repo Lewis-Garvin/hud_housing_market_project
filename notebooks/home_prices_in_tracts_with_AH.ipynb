{
 "cells": [
  {
   "cell_type": "markdown",
   "id": "07ca05fd",
   "metadata": {},
   "source": [
    "# Impact of Affordable Housing Status on Housing Prices in Nashville Census Tracts\n",
    "For the analysis in this notebook, each tract is categorized into one of three groups based on its \"affordable housing status\". These three groups are:\n",
    "1. Tracts with no affordable housing developments\n",
    "2. Tracts with affordable housing developments completed before 2010\n",
    "3. Tracts with affordable housing developments completed since 2010.\n",
    "\n",
    "Note: A tract with both an affordable housing development completed before 2010 and a development completed since 2010 will be placed in the second grouping.\n"
   ]
  },
  {
   "cell_type": "code",
   "execution_count": null,
   "id": "138e87a5",
   "metadata": {},
   "outputs": [],
   "source": [
    "import pandas as pd\n",
    "import sqlite3 as sql\n",
    "import matplotlib.pyplot as plt\n",
    "import seaborn as sns"
   ]
  },
  {
   "cell_type": "markdown",
   "id": "b6284a9a",
   "metadata": {},
   "source": [
    "### Read in cleaned sales data & set datatypes"
   ]
  },
  {
   "cell_type": "markdown",
   "id": "e5a95d42",
   "metadata": {},
   "source": [
    "The data file \"sales_cleansed_data.csv\" is created by the ***sales_data_cleansing.ipynb notebook, which must be run before this notebook.***"
   ]
  },
  {
   "cell_type": "code",
   "execution_count": null,
   "id": "019d80db",
   "metadata": {},
   "outputs": [],
   "source": [
    "#Datatypes dictionary\n",
    "sales_datatypes = {'apn':'str',\n",
    "                   'pin':'str',\n",
    "                   'saleamount':'int',\n",
    "                   \"tract\":\"str\",\n",
    "                   \"saleyear\":\"int\"}"
   ]
  },
  {
   "cell_type": "code",
   "execution_count": null,
   "id": "37bd440a",
   "metadata": {},
   "outputs": [],
   "source": [
    "sales_df = pd.read_csv('../data/sales_cleansed_data.csv', dtype = sales_datatypes)"
   ]
  },
  {
   "cell_type": "code",
   "execution_count": null,
   "id": "c328d55c",
   "metadata": {},
   "outputs": [],
   "source": [
    "sales_df['saledate'] = pd.to_datetime(sales_df.saledate)\n",
    "sales_df['ownerdate'] = pd.to_datetime(sales_df.ownerdate)"
   ]
  },
  {
   "cell_type": "code",
   "execution_count": null,
   "id": "b238bb8f",
   "metadata": {
    "scrolled": true
   },
   "outputs": [],
   "source": [
    "sales_df.info()"
   ]
  },
  {
   "cell_type": "markdown",
   "id": "419b6f72",
   "metadata": {},
   "source": [
    "### Average multiple sales for same property in same year"
   ]
  },
  {
   "cell_type": "code",
   "execution_count": null,
   "id": "c8cbe9b1",
   "metadata": {},
   "outputs": [],
   "source": [
    "#Create new dataframe subset of columns.\n",
    "sales_by_apn_year_df = sales_df[['tract','apn','saleyear','saleamount']]\n",
    "sales_by_apn_year_df.head()"
   ]
  },
  {
   "cell_type": "code",
   "execution_count": null,
   "id": "8937ee6d",
   "metadata": {},
   "outputs": [],
   "source": [
    "sales_by_apn_year_df = sales_by_apn_year_df.groupby(by=['tract','apn','saleyear']).agg('mean')\n",
    "sales_by_apn_year_df = sales_by_apn_year_df.reset_index()"
   ]
  },
  {
   "cell_type": "markdown",
   "id": "0d2ac913",
   "metadata": {},
   "source": [
    "***Note:*** The ***sales_by_apn_year_df*** dataframe contains sales data at the property/parcel level (APN). The next several steps create a dataframe with information for each tract; this tracts dataframe will merged into the sales_by_apn_year_df dataframe to add columns with data about each sold property's census tract. ***The sales_by_apn_year_df dataframe will then serve as the starting point for each type of analysis that follows.***"
   ]
  },
  {
   "cell_type": "markdown",
   "id": "1adf3431",
   "metadata": {},
   "source": [
    "### Build Tracts Dataframe"
   ]
  },
  {
   "cell_type": "markdown",
   "id": "233cb644",
   "metadata": {},
   "source": [
    "A dataframe with information for each tract will be built through the following four steps."
   ]
  },
  {
   "cell_type": "markdown",
   "id": "bf992417",
   "metadata": {},
   "source": [
    "#### Build Tracts Dataframe: 1. List of Tracts with Sales Data"
   ]
  },
  {
   "cell_type": "markdown",
   "id": "002168fe",
   "metadata": {},
   "source": [
    "A list of tracts with relevant sales data is created for use later in step 4. "
   ]
  },
  {
   "cell_type": "code",
   "execution_count": null,
   "id": "b4dfd09a",
   "metadata": {},
   "outputs": [],
   "source": [
    "#List of tracts for which we have relevant sales data.\n",
    "tracts_with_sales = list(sales_df.tract.unique())\n",
    "print(len(tracts_with_sales),'census tracts contain relevant sales since 2010.')"
   ]
  },
  {
   "cell_type": "markdown",
   "id": "6f8f2835",
   "metadata": {},
   "source": [
    "#### Build Tracts Dataframe: 2. Initial lists of tracts with (and without) affordable housing developments"
   ]
  },
  {
   "cell_type": "markdown",
   "id": "ea388799",
   "metadata": {},
   "source": [
    "Lists of tracts with and without affordable housing developments are created for use later in step 4."
   ]
  },
  {
   "cell_type": "code",
   "execution_count": null,
   "id": "134628e5",
   "metadata": {},
   "outputs": [],
   "source": [
    "lihtc_datatypes = {'FIPS2010':'str'}\n",
    "lihtc_df = pd.read_csv('../data/LIHTC.csv', dtype = lihtc_datatypes)"
   ]
  },
  {
   "cell_type": "code",
   "execution_count": null,
   "id": "1cad15f6",
   "metadata": {
    "scrolled": false
   },
   "outputs": [],
   "source": [
    "#Initial list of tracts with affordable home developments.\n",
    "lihtc_df['FIPS2010'] = lihtc_df.FIPS2010.str[-5:]\n",
    "tracts_with_projects = list(lihtc_df.FIPS2010.unique())\n",
    "#add tract from Barnes projects\n",
    "tracts_with_projects = tracts_with_projects + ['17200']\n",
    "print(len(tracts_with_projects),'census tracts contain affordable housing developments.')"
   ]
  },
  {
   "cell_type": "code",
   "execution_count": null,
   "id": "9956a717",
   "metadata": {},
   "outputs": [],
   "source": [
    "tracts_with_sales_no_projects = list(set(tracts_with_sales) - set(tracts_with_projects))\n",
    "print(len(tracts_with_sales_no_projects),'census tracts do not contain affordable housing developments.')"
   ]
  },
  {
   "cell_type": "code",
   "execution_count": null,
   "id": "ab918bd2",
   "metadata": {},
   "outputs": [],
   "source": [
    "tracts_with_projects_no_sales = list(set(tracts_with_projects) - set(tracts_with_sales))\n",
    "tracts_with_projects_no_sales\n",
    "#This list is empty, which confirms that every census tract that contains an affordable housing development\n",
    "#has had at least one relevant property sale since 2010."
   ]
  },
  {
   "cell_type": "code",
   "execution_count": null,
   "id": "ba1c3d6b",
   "metadata": {},
   "outputs": [],
   "source": [
    "#Initial list of tracts with affordable housing developments completed before 2010. This list was created by\n",
    "#a separate analysis focused on the census tract and year completed for each development in LIHTC.csv.\n",
    "tracts_with_projects_2010 = ['11001', '19400', '11800', '11300', '11200', '19200', '12701', \n",
    "                             '13900', '13800', '12702', '13700', '12600', '14300', '13500', \n",
    "                             '12801', '19300', '10903', '19500', '11400', '12100', '17401', \n",
    "                             '15618', '17000', '11700', '15622', '17100', '13300', '10302', \n",
    "                             '19116', '18202', '15629', '15502', '10501', '11002', '10402', \n",
    "                             '16200', '16100', '10401', '13601', '19105', '15900', '10301', \n",
    "                             '15610', '15620', '14400', '10702', '15623', '15628', '19005']\n",
    "print(len(tracts_with_projects_2010), 'census tracts contain affordable housing developments completed before 2010.')"
   ]
  },
  {
   "cell_type": "code",
   "execution_count": null,
   "id": "768c226f",
   "metadata": {},
   "outputs": [],
   "source": [
    "#Initial list of tracts with affordable housing developments completed since 2010.\n",
    "tracts_with_projects_after_2010 = list(set(tracts_with_projects) - set(tracts_with_projects_2010))\n",
    "print(len(tracts_with_projects_after_2010),'census tracts contain affordable housing developments completed since 2010.')"
   ]
  },
  {
   "cell_type": "markdown",
   "id": "5cc8c665",
   "metadata": {},
   "source": [
    "#### Build Tracts Dataframe: 3. Initial dataframe of Tracts' Median Household Incomes "
   ]
  },
  {
   "cell_type": "markdown",
   "id": "cf3bb306",
   "metadata": {},
   "source": [
    "Dataframes with median household incomes for each tract are created for later use in step 4."
   ]
  },
  {
   "cell_type": "code",
   "execution_count": null,
   "id": "c36c970c",
   "metadata": {},
   "outputs": [],
   "source": [
    "#Connect with the census database and retrieve data from table B19013, which contains median household incomes\n",
    "#by census tract.\n",
    "conn = sql.connect('../data/census.sqlite')\n",
    "cur = conn.cursor()\n",
    "B19013_med_hhold_inc = pd.read_sql(\"SELECT * FROM B19013;\", conn) \n",
    "cur.close()\n",
    "conn.close()"
   ]
  },
  {
   "cell_type": "code",
   "execution_count": null,
   "id": "f9bda73a",
   "metadata": {},
   "outputs": [],
   "source": [
    "#Change datatype of tract column to string.\n",
    "B19013_med_hhold_inc['tract'] = B19013_med_hhold_inc.tract.astype(str)"
   ]
  },
  {
   "cell_type": "code",
   "execution_count": null,
   "id": "bf53c5ac",
   "metadata": {},
   "outputs": [],
   "source": [
    "#Create dataframe with median of each tract's median household incomes from 2010 to 2020.\n",
    "med_hhinc_2010_2020_df = B19013_med_hhold_inc.loc[((B19013_med_hhold_inc.year >= 2010)\n",
    "                                                  & (B19013_med_hhold_inc.year <= 2020))\n",
    "                                                    & (B19013_med_hhold_inc.value > 0)]\n",
    "med_hhinc_2010_2020_df = med_hhinc_2010_2020_df[['tract','value']]\n",
    "med_hhinc_2010_2020_df = med_hhinc_2010_2020_df.groupby(by=['tract']).agg('median')\n",
    "med_hhinc_2010_2020_df = med_hhinc_2010_2020_df.reset_index()\n",
    "med_hhinc_2010_2020_df = med_hhinc_2010_2020_df.round({'value': 0})\n",
    "med_hhinc_2010_2020_df = med_hhinc_2010_2020_df.rename(columns={'value':'med_hhinc_2010_2020'})\n",
    "med_hhinc_2010_2020_df.head()"
   ]
  },
  {
   "cell_type": "code",
   "execution_count": null,
   "id": "cbf3bddf",
   "metadata": {},
   "outputs": [],
   "source": [
    "#Create dataframe with median of each tract's median household incomes from 2015 to 2020.\n",
    "med_hhinc_2015_2020_df = B19013_med_hhold_inc.loc[((B19013_med_hhold_inc.year >= 2015)\n",
    "                                                  & (B19013_med_hhold_inc.year <= 2020))\n",
    "                                                    & (B19013_med_hhold_inc.value > 0)]\n",
    "med_hhinc_2015_2020_df = med_hhinc_2015_2020_df[['tract','value']]\n",
    "med_hhinc_2015_2020_df = med_hhinc_2015_2020_df.groupby(by=['tract']).agg('median')\n",
    "med_hhinc_2015_2020_df = med_hhinc_2015_2020_df.reset_index()\n",
    "med_hhinc_2015_2020_df = med_hhinc_2015_2020_df.round({'value': 0})\n",
    "med_hhinc_2015_2020_df = med_hhinc_2015_2020_df.rename(columns={'value':'med_hhinc_2015_2020'})\n",
    "med_hhinc_2015_2020_df.head()"
   ]
  },
  {
   "cell_type": "markdown",
   "id": "cedb24e6",
   "metadata": {},
   "source": [
    "#### Build Tracts Dataframe: 4. Build final tracts dataframe"
   ]
  },
  {
   "cell_type": "markdown",
   "id": "bc506704",
   "metadata": {},
   "source": [
    "A dataframe with information for each tract is built using the results of the prior steps 1 through 3. The list of tracts with sales data is iterated through to create four related lists of tract information. The final tracts dataframe is built by combing these five lists into a single dataframe with five columns. "
   ]
  },
  {
   "cell_type": "code",
   "execution_count": null,
   "id": "1bb7de1f",
   "metadata": {},
   "outputs": [],
   "source": [
    "has_project = []  #A True/False boolean for whether a tract has affordable housing.\n",
    "has_project_2010 = [] #This list becomes the \"affordable housing status\" for each tract.\n",
    "                      #The three groupings are 'No AH', 'Built before 2010', and 'Built since 2010'.\n",
    "med_hhinc_2010_2020 = [] #This is the median of each tract's median household income from 2010 to 2020.\n",
    "med_hhinc_2015_2020 = [] #This is the median of each tract's median household income from 2015 to 2020.\n",
    "\n",
    "for tract in tracts_with_sales:\n",
    "    if tract in tracts_with_projects_2010:\n",
    "        has_project.append(True)\n",
    "        has_project_2010.append('Built before 2010')\n",
    "    elif tract in tracts_with_projects_after_2010:\n",
    "        has_project.append(True)\n",
    "        has_project_2010.append('Built since 2010')\n",
    "    else:\n",
    "        has_project.append(False)\n",
    "        has_project_2010.append('No AH')\n",
    "    \n",
    "    if med_hhinc_2010_2020_df[med_hhinc_2010_2020_df.tract == tract].shape[0] > 0:\n",
    "        med_hhinc_2010_2020.append(med_hhinc_2010_2020_df[med_hhinc_2010_2020_df.tract == tract].iloc[0,1])\n",
    "    else:\n",
    "        med_hhinc_2010_2020.append(None)\n",
    "        \n",
    "    if med_hhinc_2015_2020_df[med_hhinc_2015_2020_df.tract == tract].shape[0] > 0:\n",
    "        med_hhinc_2015_2020.append(med_hhinc_2015_2020_df[med_hhinc_2015_2020_df.tract == tract].iloc[0,1])\n",
    "    else:\n",
    "        med_hhinc_2015_2020.append(None)"
   ]
  },
  {
   "cell_type": "code",
   "execution_count": null,
   "id": "30213201",
   "metadata": {},
   "outputs": [],
   "source": [
    "tracts_dict = {'tract':tracts_with_sales, \n",
    "               'has_project':has_project,\n",
    "               'has_project_2010':has_project_2010,\n",
    "               'med_hhinc_2010_2020':med_hhinc_2010_2020,\n",
    "               'med_hhinc_2015_2020':med_hhinc_2015_2020}\n",
    "tracts_df = pd.DataFrame(tracts_dict)"
   ]
  },
  {
   "cell_type": "markdown",
   "id": "210b13d3",
   "metadata": {},
   "source": [
    "***tracts_df columns:***\n",
    "- has_project: A True/False boolean for whether a tract has affordable housing.\n",
    "- has_project_2010: This list becomes the \"affordable housing status\" for each tract. The three groupings are 'No AH', 'Built before 2010', and 'Built since 2010'.\n",
    "- med_hhinc_2010_2020: This is the median of each tracts median household income from 2010 to 2020.\n",
    "- med_hhinc_2015_2020: This is the median of each tracts median household income from 2015 \n",
    "\n",
    "***Note:*** The columns has_project and med_hhinc_2015_2020 are not used. They were created for analyses that were later removed from this notebook."
   ]
  },
  {
   "cell_type": "code",
   "execution_count": null,
   "id": "1fa2dddd",
   "metadata": {
    "scrolled": true
   },
   "outputs": [],
   "source": [
    "tracts_df.head()"
   ]
  },
  {
   "cell_type": "markdown",
   "id": "7107a79f",
   "metadata": {},
   "source": [
    "### Tracts by Affordable Housing Status Bar Chart"
   ]
  },
  {
   "cell_type": "code",
   "execution_count": null,
   "id": "2176c294",
   "metadata": {},
   "outputs": [],
   "source": [
    "# Plot of # of tracts grouped by has_project_2010\n",
    "tracts_summary = tracts_df[['tract','has_project_2010']].groupby(by=['has_project_2010']).agg('count')\n",
    "tracts_summary = tracts_summary.reset_index()\n",
    "tracts_summary = tracts_summary.rename(columns={'tract':'number_of_tracts'})\n",
    "tracts_summary = tracts_summary.sort_values(by=['number_of_tracts'],ascending=False)\n",
    "tracts_summary"
   ]
  },
  {
   "cell_type": "code",
   "execution_count": null,
   "id": "a7e23807",
   "metadata": {},
   "outputs": [],
   "source": [
    "hue_order = ['No AH',\n",
    "             'Built before 2010',\n",
    "             'Built since 2010',]\n",
    "palette = ['#0F0064','#F3C400','#E7800C']\n",
    "fig, ax = plt.subplots(figsize=(10,6))\n",
    "ahs = sns.barplot(data=tracts_summary,\n",
    "                 x='has_project_2010',\n",
    "                 y='number_of_tracts',\n",
    "                  palette=palette\n",
    "                 )\n",
    "plt.title('Affordable Housing Status for Tracts with Residential Sales (2010-2022)',\n",
    "          fontweight = 'bold',\n",
    "          fontsize = 14)\n",
    "plt.xlabel('Affordable Housing Status',\n",
    "          fontweight = 'bold',\n",
    "          fontsize = 12)\n",
    "plt.ylabel('Number of Tracts',\n",
    "          fontweight = 'bold',\n",
    "          fontsize = 12)\n",
    "ahs.set_ylim(bottom=0,top=110)\n",
    "ahs.set_xticklabels(['No AH','Built before 2010','Built since 2010 (in or after 2010)'])\n",
    "plt.text(x = 0, y=100, s='97', fontsize = 14,ha='center') #No AH\n",
    "plt.text(x = 1, y=52, s='49', fontsize = 14,ha='center') #Built before 2010\n",
    "plt.text(x = 2, y=15, s='13', fontsize = 14,ha='center') #Built after 2010\n",
    ";"
   ]
  },
  {
   "cell_type": "markdown",
   "id": "4d416b83",
   "metadata": {},
   "source": [
    "### Add tracts info to sales_by_apn_year_df"
   ]
  },
  {
   "cell_type": "markdown",
   "id": "6c2a5846",
   "metadata": {},
   "source": [
    "This dataframe has sales at the property/parcel level (APN) and also info about the tract that contains the parcel. This dataframe serves as the starting point for each type of analysis that follows."
   ]
  },
  {
   "cell_type": "code",
   "execution_count": null,
   "id": "cd17a469",
   "metadata": {},
   "outputs": [],
   "source": [
    "sales_by_apn_year_df = pd.merge(sales_by_apn_year_df, tracts_df, how='left', on=['tract'])"
   ]
  },
  {
   "cell_type": "markdown",
   "id": "82a0bf8e",
   "metadata": {},
   "source": [
    "### Median sale prices by affordable housing status and year"
   ]
  },
  {
   "cell_type": "code",
   "execution_count": null,
   "id": "98c6d0d0",
   "metadata": {},
   "outputs": [],
   "source": [
    "#Create new dataframe without apn and tract columns.\n",
    "sales_by_year_df = sales_by_apn_year_df[['has_project_2010',\n",
    "                                         'saleyear',\n",
    "                                         'saleamount']]"
   ]
  },
  {
   "cell_type": "code",
   "execution_count": null,
   "id": "a22804ae",
   "metadata": {},
   "outputs": [],
   "source": [
    "#Aggregate to find median price by has_project_2010 and year\n",
    "sales_by_year_df = sales_by_year_df.groupby(by=['has_project_2010',\n",
    "                                                'saleyear']).agg('median')\n",
    "sales_by_year_df = sales_by_year_df.reset_index()"
   ]
  },
  {
   "cell_type": "code",
   "execution_count": null,
   "id": "7ad65943",
   "metadata": {},
   "outputs": [],
   "source": [
    "sales_by_year_df = sales_by_year_df.rename(columns={'saleamount':'medprice'})\n",
    "# medprice is short for median sale price"
   ]
  },
  {
   "cell_type": "code",
   "execution_count": null,
   "id": "2bf197f2",
   "metadata": {},
   "outputs": [],
   "source": [
    "sales_by_year_df = sales_by_year_df.round({'medprice': 0})"
   ]
  },
  {
   "cell_type": "code",
   "execution_count": null,
   "id": "c2401fb7",
   "metadata": {},
   "outputs": [],
   "source": [
    "sales_by_year_df.head()"
   ]
  },
  {
   "cell_type": "code",
   "execution_count": null,
   "id": "28b8c040",
   "metadata": {},
   "outputs": [],
   "source": [
    "hue_order = ['No AH',\n",
    "             'Built before 2010',\n",
    "             'Built since 2010']\n",
    "palettedict = {'No AH':'#0F0064',\n",
    "               'Built before 2010':'#F3C400',\n",
    "               'Built since 2010':'#E7800C'}\n",
    "fig, ax = plt.subplots(figsize=(10,5))\n",
    "lp = sns.lineplot(data=sales_by_year_df,\n",
    "         x='saleyear',\n",
    "         y='medprice',\n",
    "         marker='o',\n",
    "         markersize=5,\n",
    "         hue='has_project_2010',\n",
    "         hue_order=hue_order,\n",
    "         palette=palettedict\n",
    "         )\n",
    "lp.set_ylim(0,500000)\n",
    "plt.title('Annual Median Sale Price by Affordable Housing Status',\n",
    "          fontweight = 'bold',\n",
    "          fontsize = 14)\n",
    "plt.xlabel('')\n",
    "plt.ylabel('Median Sale Price',\n",
    "          fontweight = 'bold',\n",
    "          fontsize = 12)\n",
    "plt.legend(loc=\"lower right\")\n",
    "lp.set_xticks([2010,2011,2012,2013,2014,2015,2016,2017,2018,2019,2020,2021,2022])\n",
    "lp.set_yticks([0,100000,200000,300000,400000,500000])\n",
    "lp.set_yticklabels(['$0','$100,000','$200,000','$300,000','$400,000','$500,000'])\n",
    "plt.text(x = 2014, y=100000, s='AH in 9 of these 13 tracts by 2014', fontsize = 10,ha='left')\n",
    "plt.text(x = 2018, y=200000, s='AH in all of these tracts by 2018', fontsize = 10,ha='left');"
   ]
  },
  {
   "cell_type": "markdown",
   "id": "aa94681e",
   "metadata": {},
   "source": [
    "### Annual Growth by affordable housing status and year"
   ]
  },
  {
   "cell_type": "markdown",
   "id": "cfd25afa",
   "metadata": {},
   "source": [
    "A column is added to sales_by_year_df that contains the percentage change in median sale price compared to the prior year."
   ]
  },
  {
   "cell_type": "code",
   "execution_count": null,
   "id": "6d87ac60",
   "metadata": {},
   "outputs": [],
   "source": [
    "for index, row in sales_by_year_df.iterrows():\n",
    "    if row['saleyear'] > 2010:\n",
    "        prioryearrow = sales_by_year_df.loc[(sales_by_year_df.has_project_2010 == row['has_project_2010'])\n",
    "                                            & (sales_by_year_df.saleyear == row['saleyear'] - 1)]\n",
    "        priormedprice = prioryearrow.iloc[0,2]\n",
    "        sales_by_year_df.loc[index, 'pctpricegrowth'] = 100 * (row['medprice'] - priormedprice) / priormedprice"
   ]
  },
  {
   "cell_type": "code",
   "execution_count": null,
   "id": "58895cd5",
   "metadata": {
    "scrolled": false
   },
   "outputs": [],
   "source": [
    "sales_by_year_df.head()"
   ]
  },
  {
   "cell_type": "code",
   "execution_count": null,
   "id": "c76881a5",
   "metadata": {
    "scrolled": false
   },
   "outputs": [],
   "source": [
    "hue_order = ['No AH',\n",
    "             'Built before 2010',\n",
    "             'Built since 2010']\n",
    "palettedict = {'No AH':'#0F0064',\n",
    "               'Built before 2010':'#F3C400',\n",
    "               'Built since 2010':'#E7800C'}\n",
    "fig, ax = plt.subplots(figsize=(10,5))\n",
    "pg = sns.lineplot(data=sales_by_year_df,\n",
    "         x='saleyear',\n",
    "         y='pctpricegrowth',\n",
    "         marker='o',\n",
    "         markersize=5,\n",
    "         hue='has_project_2010',\n",
    "         hue_order=hue_order,\n",
    "         palette=palettedict\n",
    "         )\n",
    "plt.title('Annual Sale Price Growth by Affordable Housing Status',\n",
    "          fontweight = 'bold',\n",
    "          fontsize = 14)\n",
    "plt.xlabel('')\n",
    "plt.ylabel('% Growth in Median Sale Price',\n",
    "          fontweight = 'bold',\n",
    "          fontsize = 12)\n",
    "pg.set_xticks([2010,2011,2012,2013,2014,2015,2016,2017,2018,2019,2020,2021,2022])\n",
    "pg.set_ylim(bottom=-10,top=30)\n",
    "pg.set_yticklabels(['-10%','-5%','0%','5%','10%','15%','20%','25%','30%'])\n",
    "plt.legend(loc=\"lower right\")\n",
    ";"
   ]
  },
  {
   "cell_type": "markdown",
   "id": "2518fb0b",
   "metadata": {},
   "source": [
    "### Analysis of 2010-2020 sales price growth vs median household income by tract"
   ]
  },
  {
   "cell_type": "code",
   "execution_count": null,
   "id": "c78cf068",
   "metadata": {},
   "outputs": [],
   "source": [
    "#Create new dataframe with a subset of columns from sales_by_apn_year_df.\n",
    "sales_by_tract_year_df = sales_by_apn_year_df[['tract',\n",
    "                                               'saleyear',\n",
    "                                               'saleamount',\n",
    "                                               'has_project_2010',\n",
    "                                               'med_hhinc_2010_2020',\n",
    "                                               'med_hhinc_2015_2020']]"
   ]
  },
  {
   "cell_type": "code",
   "execution_count": null,
   "id": "e75b171d",
   "metadata": {},
   "outputs": [],
   "source": [
    "#Aggregate to find median sale price by tract and year\n",
    "sales_by_tract_year_df = sales_by_tract_year_df.groupby(by=['tract',\n",
    "                                                            'saleyear',\n",
    "                                                            'has_project_2010',\n",
    "                                                            'med_hhinc_2010_2020',\n",
    "                                                            'med_hhinc_2015_2020']).agg('median')\n",
    "sales_by_tract_year_df = sales_by_tract_year_df.reset_index()"
   ]
  },
  {
   "cell_type": "code",
   "execution_count": null,
   "id": "4d9010b4",
   "metadata": {},
   "outputs": [],
   "source": [
    "sales_by_tract_year_df = sales_by_tract_year_df.rename(columns={'saleamount':'medprice'}) #medprice = median sale price"
   ]
  },
  {
   "cell_type": "code",
   "execution_count": null,
   "id": "022857d8",
   "metadata": {},
   "outputs": [],
   "source": [
    "sales_by_tract_year_df = sales_by_tract_year_df.round({'medprice': 0})"
   ]
  },
  {
   "cell_type": "code",
   "execution_count": null,
   "id": "938a9c31",
   "metadata": {},
   "outputs": [],
   "source": [
    "#Create dataframe with one row per tract with data for 2020, including median household\n",
    "#income for 2010-2020 and 2015-2020 periods.\n",
    "growth_by_tract_df = sales_by_tract_year_df.loc[sales_by_tract_year_df.saleyear == 2020]"
   ]
  },
  {
   "cell_type": "code",
   "execution_count": null,
   "id": "64b90938",
   "metadata": {
    "scrolled": false
   },
   "outputs": [],
   "source": [
    "#Iterate through growth_by_tract_df to add columns for the percent growth in median sale \n",
    "#price from 2010-2020 and 2015-2020.\n",
    "for index, row in growth_by_tract_df.iterrows():\n",
    "    if sales_by_tract_year_df.loc[(sales_by_tract_year_df.tract == row['tract'])\n",
    "                                  & (sales_by_tract_year_df.saleyear == 2010)].shape[0] > 0:\n",
    "        medprice2010 = sales_by_tract_year_df.loc[(sales_by_tract_year_df.tract == row['tract'])\n",
    "                                                  & (sales_by_tract_year_df.saleyear == 2010)].iloc[0,5]\n",
    "        growth_by_tract_df.loc[index,'pctpricegrowth10yr'] = 100 * (row['medprice'] - medprice2010) / medprice2010\n",
    "    else:\n",
    "        print('tract',row['tract'],'missing 2010') #Note when a tract did not have a sale in 2010.\n",
    "    \n",
    "    if sales_by_tract_year_df.loc[(sales_by_tract_year_df.tract == row['tract'])\n",
    "                                              & (sales_by_tract_year_df.saleyear == 2015)].shape[0]:\n",
    "        medprice2015 = sales_by_tract_year_df.loc[(sales_by_tract_year_df.tract == row['tract'])\n",
    "                                                  & (sales_by_tract_year_df.saleyear == 2015)].iloc[0,5]\n",
    "        growth_by_tract_df.loc[index,'pctpricegrowth5yr'] = 100 * (row['medprice'] - medprice2015) / medprice2015\n",
    "    else:\n",
    "        print('tract',row['tract'],'missing 2015') #Note when a tract did not have a sale in 2015."
   ]
  },
  {
   "cell_type": "code",
   "execution_count": null,
   "id": "8c6aa150",
   "metadata": {
    "scrolled": true
   },
   "outputs": [],
   "source": [
    "growth_by_tract_df.describe()"
   ]
  },
  {
   "cell_type": "code",
   "execution_count": null,
   "id": "92f13620",
   "metadata": {},
   "outputs": [],
   "source": [
    "#Count of tracts in upper quartile by median household income 2010-2020\n",
    "growth_by_tract_df.loc[growth_by_tract_df.med_hhinc_2010_2020 > 59602].has_project_2010.value_counts()"
   ]
  },
  {
   "cell_type": "code",
   "execution_count": null,
   "id": "3405a713",
   "metadata": {},
   "outputs": [],
   "source": [
    "#Count of tracts in upper quartile by growth in median sale price 2010-2020\n",
    "growth_by_tract_df.loc[growth_by_tract_df.pctpricegrowth10yr > 169.189189].has_project_2010.value_counts()"
   ]
  },
  {
   "cell_type": "code",
   "execution_count": null,
   "id": "397dcacd",
   "metadata": {},
   "outputs": [],
   "source": [
    "hue_order = ['No AH',\n",
    "             'Built before 2010',\n",
    "             'Built since 2010']\n",
    "palettedict = {'No AH':'#0F0064',\n",
    "               'Built before 2010':'#F3C400',\n",
    "               'Built since 2010':'#E7800C'}\n",
    "fig, ax = plt.subplots(figsize=(7,7))\n",
    "sp10 = sns.scatterplot(data=growth_by_tract_df,\n",
    "                       x='med_hhinc_2010_2020',\n",
    "                       y='pctpricegrowth10yr',\n",
    "                       hue='has_project_2010',\n",
    "                       hue_order=hue_order,\n",
    "                       palette=palettedict)\n",
    "plt.legend(loc=\"upper right\")\n",
    "\n",
    "plt.title('Price Growth vs Household Income for Nashville Tracts (2010-2020)',\n",
    "          fontweight = 'bold',\n",
    "          fontsize = 14)\n",
    "plt.xlabel('Median Household Income *',\n",
    "           fontweight = 'bold',\n",
    "           fontsize = 12)\n",
    "plt.ylabel('% Growth in Median Sale Price',\n",
    "           fontweight = 'bold',\n",
    "           fontsize = 12)\n",
    "sp10.set_xlim(0,200000)\n",
    "sp10.set_xticklabels(['$0','$25k','$50k','$75k','$100k',\n",
    "                      '$125k','$150k','$175k','$200k'])\n",
    "sp10.set_ylim(-100,1000)\n",
    "sp10.set_yticks([-100,0,100,200,300,400,500,600,700,800,900,1000])\n",
    "sp10.set_yticklabels(['-100%','0%','100%','200%','300%','400%','500%','600%','700%','800%','900%','1000%'])\n",
    "\n",
    "sp10.axhline(169.189189, linewidth=1, linestyle=':', color='black', label='1qtr')\n",
    "\n",
    "plt.text(x = 197000, y=180, s='upper quartile', fontsize = 10,ha='right') #LIP\n",
    ";"
   ]
  },
  {
   "cell_type": "markdown",
   "id": "3ea57f0f",
   "metadata": {},
   "source": [
    "### Same scatterplot but without tracts 'Built since 2010'"
   ]
  },
  {
   "cell_type": "markdown",
   "id": "ccc7353d",
   "metadata": {},
   "source": [
    "This was needed to complement a graph from a different notebook, with the two graphs appearing side by side on a single presentation slide."
   ]
  },
  {
   "cell_type": "code",
   "execution_count": null,
   "id": "053025b4",
   "metadata": {},
   "outputs": [],
   "source": [
    "growth_by_tract_df_remove_after_2010 = growth_by_tract_df.loc[growth_by_tract_df.has_project_2010 != 'Built since 2010']\n",
    "growth_by_tract_df_remove_after_2010.has_project_2010.value_counts()"
   ]
  },
  {
   "cell_type": "code",
   "execution_count": null,
   "id": "dfaa0cbd",
   "metadata": {},
   "outputs": [],
   "source": [
    "hue_order = ['No AH',\n",
    "             'Built before 2010']\n",
    "palettedict = {'No AH':'#0F0064',\n",
    "               'Built before 2010':'#F3C400'}\n",
    "fig, ax = plt.subplots(figsize=(7,7))\n",
    "sp10 = sns.scatterplot(data=growth_by_tract_df_remove_after_2010,\n",
    "         x='med_hhinc_2010_2020',\n",
    "         y='pctpricegrowth10yr',\n",
    "         hue='has_project_2010',\n",
    "         hue_order=hue_order,\n",
    "         palette=palettedict\n",
    "         )\n",
    "plt.legend(loc=\"upper right\")\n",
    "\n",
    "plt.title('Price Growth vs Household Income for Nashville Tracts (2010-2020)',\n",
    "          fontweight = 'bold',\n",
    "          fontsize = 14)\n",
    "plt.xlabel('Median Household Income',\n",
    "           fontweight = 'bold',\n",
    "           fontsize = 12)\n",
    "plt.ylabel('% Growth in Median Sale Price',\n",
    "          fontweight = 'bold',\n",
    "          fontsize = 12)\n",
    "sp10.set_xlim(0,200000)\n",
    "sp10.set_xticklabels(['$0','$25k','$50k','$75k','$100k',\n",
    "                      '$125k','$150k','$175k','$200k'])\n",
    "\n",
    "sp10.set_yticks([-100,0,100,200,300,400,500,600,700,800,900,1000])\n",
    "sp10.set_yticklabels(['-100%','0%','100%','200%','300%','400%','500%','600%','700%','800%','900%','1000%'])\n",
    ";"
   ]
  }
 ],
 "metadata": {
  "kernelspec": {
   "display_name": "Python 3 (ipykernel)",
   "language": "python",
   "name": "python3"
  },
  "language_info": {
   "codemirror_mode": {
    "name": "ipython",
    "version": 3
   },
   "file_extension": ".py",
   "mimetype": "text/x-python",
   "name": "python",
   "nbconvert_exporter": "python",
   "pygments_lexer": "ipython3",
   "version": "3.9.13"
  }
 },
 "nbformat": 4,
 "nbformat_minor": 5
}
