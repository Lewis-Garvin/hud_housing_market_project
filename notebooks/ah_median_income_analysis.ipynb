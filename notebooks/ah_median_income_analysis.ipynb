{
 "cells": [
  {
   "cell_type": "markdown",
   "id": "bf917873",
   "metadata": {},
   "source": [
    "# Impact of Affordable Housing on Home Values and Houshold Income"
   ]
  },
  {
   "cell_type": "markdown",
   "id": "56e62f28",
   "metadata": {},
   "source": [
    "This notebook uses a dataset that has been cleansed for analysis using the following conditions:\n",
    "- Residential properties (Single-Family and Condo)\n",
    "- Non-null census tracts\n",
    "- Sales transactions above $1000\n",
    "- Complete duplicates removed\n",
    "- Sales processed after 2010\n",
    "\n",
    "This dataset is pre-sorted, ascending, in the following order: _tract_, _apn_ and _saleamount_.<br><br>\n",
    "Median income level data is obtained from the 'B19013' census table found in the census.sqlite file. Top and bottom quartiles of the census tracks, according to the median of the 'median household incomes' for tracts from 2010 to 2020, are identified as well the impact of affordable housing development status on median home values and median household incomes.\n",
    "\n",
    "Housing data is obtained from a CSV file named 'sales_cleansed_data.csv' that is created by the notebook 'sales_cleansed_data.ipynb' that is in the same GitHub repository."
   ]
  },
  {
   "cell_type": "code",
   "execution_count": null,
   "id": "7af462a0",
   "metadata": {},
   "outputs": [],
   "source": [
    "import pandas as pd\n",
    "import numpy as np\n",
    "import sqlite3 as sql\n",
    "import seaborn as sns\n",
    "import matplotlib.pyplot as plt\n",
    "import matplotlib.ticker as mtick\n",
    "from matplotlib.ticker import StrMethodFormatter\n",
    "%matplotlib inline"
   ]
  },
  {
   "cell_type": "markdown",
   "id": "a3dddc0d",
   "metadata": {},
   "source": [
    "### Establish two arrays for tracts with and without AH (hard-copied from a previous analysis)"
   ]
  },
  {
   "cell_type": "code",
   "execution_count": null,
   "id": "91678604",
   "metadata": {},
   "outputs": [],
   "source": [
    "# Tracts that had affordable housing developments before 2010\n",
    "AHtracts = np.array([  '10301', '10302', '10401', '10402', '10501', '10702', '10903',\n",
    "                       '11001', '11002', '11200', '11300', '11400', '11700', '11800',\n",
    "                       '12100', '12600', '12701', '12702', '12801', '13300', '13500',\n",
    "                       '13601', '13700', '13800', '13900', '14300', '14400', '15502',\n",
    "                       '15610', '15618', '15620', '15622', '15623', '15628', '15629',\n",
    "                       '15900', '16100', '16200', '17000', '17100', '17401', '18202',\n",
    "                       '19005', '19105', '19116', '19200', '19300', '19400', '19500'])\n",
    "\n",
    "# Tracts that DO NOT have affordable housing\n",
    "REGtracts = np.array([ '10103', '10104', '10105', '10106', '10303', '10502', '10602',\n",
    "                       '10701', '10801', '10802', '10901', '11100', '11500', '11600',\n",
    "                       '12200', '12802', '13000', '13100', '13201', '13202', '13400',\n",
    "                       '13602', '14200', '14800', '15100', '15200', '15300', '15401',\n",
    "                       '15402', '15404', '15405', '15501', '15609', '15613', '15614',\n",
    "                       '15617', '15619', '15625', '15626', '15627', '15630', '15631',\n",
    "                       '15700', '15802', '15803', '16000', '16300', '16400', '16500',\n",
    "                       '16600', '16700', '16800', '16900', '17300', '17402', '17701',\n",
    "                       '17702', '17800', '17901', '17902', '18000', '18101', '18102',\n",
    "                       '18201', '18203', '18301', '18302', '18401', '18404', '18405',\n",
    "                       '18407', '18408', '18409', '18410', '18500', '18602', '18700',\n",
    "                       '18801', '18803', '18804', '18901', '18902', '18904', '18905',\n",
    "                       '19003', '19004', '19006', '19106', '19109', '19110', '19111',\n",
    "                       '19112', '19114', '19115', '19117', '19118', '19600'])"
   ]
  },
  {
   "cell_type": "markdown",
   "id": "ca09c11b",
   "metadata": {},
   "source": [
    "#### Read in the Census data as a DataFrame using SQLite\n",
    "This database contains data gathered from the US Census [American Community Survey](https://www.census.gov/data/developers/data-sets.html) for the years 2009 through 2020. \n",
    "- For the tables and variables included, see the data dictionary.\n",
    "- Be aware that census tracts change around \n",
    "- Census tracts in the housing database PROBABLY come from the new census tract info (VERIFY THIS)\n",
    "- Can use https://www.census.gov/geographies/mapping-files/time-series/geo/tiger-line-file.2020.html to compare older census property tract numbers to new ones\n",
    "- Can probably filter down to 2010 to Present"
   ]
  },
  {
   "cell_type": "code",
   "execution_count": null,
   "id": "ffe92591",
   "metadata": {},
   "outputs": [],
   "source": [
    "cens_conn = sql.connect('../data/census.sqlite')\n",
    "cur = cens_conn.cursor()\n",
    "\n",
    "query_init = \"Select name FROM sqlite_master WHERE type='table' ORDER BY name;\"\n",
    "cur.execute(query_init)\n",
    "census_tables = (cur.fetchall())"
   ]
  },
  {
   "cell_type": "code",
   "execution_count": null,
   "id": "892ed2be",
   "metadata": {},
   "outputs": [],
   "source": [
    "print(census_tables)"
   ]
  },
  {
   "cell_type": "markdown",
   "id": "9ae5fb38",
   "metadata": {},
   "source": [
    "#### Clean and Format the Census Data"
   ]
  },
  {
   "cell_type": "code",
   "execution_count": null,
   "id": "a17a982a",
   "metadata": {},
   "outputs": [],
   "source": [
    "# Save the Median Household Income data from the Census dataset as a DataFrame\n",
    "median_incomes = pd.read_sql(\"SELECT * FROM B19013\", cens_conn)\n",
    "median_incomes.head()"
   ]
  },
  {
   "cell_type": "code",
   "execution_count": null,
   "id": "10529aaf",
   "metadata": {},
   "outputs": [],
   "source": [
    "median_incomes.info()"
   ]
  },
  {
   "cell_type": "code",
   "execution_count": null,
   "id": "df8840bf",
   "metadata": {},
   "outputs": [],
   "source": [
    "# Convert tracts from integers to strings\n",
    "median_incomes['tract'] = median_incomes.tract.astype('string')\n",
    "median_incomes.info()"
   ]
  },
  {
   "cell_type": "code",
   "execution_count": null,
   "id": "147065c4",
   "metadata": {},
   "outputs": [],
   "source": [
    "# Filter for records between 2010 and 2020\n",
    "median_incomes = median_incomes.loc[median_incomes.year.isin(range(2010, 2021))]"
   ]
  },
  {
   "cell_type": "code",
   "execution_count": null,
   "id": "091141fa",
   "metadata": {},
   "outputs": [],
   "source": [
    "# Remove records with a '-666666666' value\n",
    "median_incomes = median_incomes.loc[median_incomes.value != -666666666]"
   ]
  },
  {
   "cell_type": "code",
   "execution_count": null,
   "id": "ab5e5d93",
   "metadata": {},
   "outputs": [],
   "source": [
    "# Keep only the tracts with more than 10 years' of income information\n",
    "income_counts = median_incomes.tract.value_counts().to_dict()\n",
    "valid_tracts = [tract for tract in income_counts if income_counts[tract] >= 10]\n",
    "median_incomes = median_incomes.loc[median_incomes.tract.isin(valid_tracts)]"
   ]
  },
  {
   "cell_type": "code",
   "execution_count": null,
   "id": "ff87f5fb",
   "metadata": {
    "scrolled": true
   },
   "outputs": [],
   "source": [
    "# Subset for the relevant fields\n",
    "median_incomes = median_incomes[['year', 'tract', 'value']].sort_values(by=['year', 'tract', 'value']).reset_index(drop=True)\n",
    "median_incomes = median_incomes.rename(columns={'value':'median_income'})"
   ]
  },
  {
   "cell_type": "markdown",
   "id": "e37c7ea6",
   "metadata": {},
   "source": [
    "### Determine Bottom and Top 25% of Tracts, according to Median Household Income"
   ]
  },
  {
   "cell_type": "markdown",
   "id": "2e77dc70",
   "metadata": {},
   "source": [
    "#### Calculate the Median Across All Years (from 2010 to 2020) of That Tract's Collective 'Median Household Incomes'."
   ]
  },
  {
   "cell_type": "code",
   "execution_count": null,
   "id": "97dee3c3",
   "metadata": {
    "scrolled": true
   },
   "outputs": [],
   "source": [
    "income_per_tract = median_incomes.groupby('tract').median_income.median().sort_values().astype(int).reset_index()"
   ]
  },
  {
   "cell_type": "markdown",
   "id": "9c00747f",
   "metadata": {},
   "source": [
    "#### For All Tracks"
   ]
  },
  {
   "cell_type": "code",
   "execution_count": null,
   "id": "a181717c",
   "metadata": {},
   "outputs": [],
   "source": [
    "bottom25_tracts = income_per_tract.head(round(len(income_per_tract)*0.25)).tract.to_list()\n",
    "top25_tracts = income_per_tract.tail(round(len(income_per_tract)*0.25)).tract.to_list()"
   ]
  },
  {
   "cell_type": "markdown",
   "id": "f28baa79",
   "metadata": {},
   "source": [
    "#### For AH Tracks"
   ]
  },
  {
   "cell_type": "code",
   "execution_count": null,
   "id": "fa5f230a",
   "metadata": {},
   "outputs": [],
   "source": [
    "bottom25_AHtracts = income_per_tract[income_per_tract.tract.isin(AHtracts)].head(round(len(income_per_tract)*0.25)).tract.to_list()\n",
    "top25_AHtracts = income_per_tract[income_per_tract.tract.isin(AHtracts)].tail(round(len(income_per_tract)*0.25)).tract.to_list()"
   ]
  },
  {
   "cell_type": "markdown",
   "id": "d1e54726",
   "metadata": {},
   "source": [
    "#### For Non-AH Tracks"
   ]
  },
  {
   "cell_type": "code",
   "execution_count": null,
   "id": "bde753b6",
   "metadata": {},
   "outputs": [],
   "source": [
    "bottom25_REGtracts = income_per_tract[income_per_tract.tract.isin(REGtracts)].head(round(len(income_per_tract)*0.25)).tract.to_list()\n",
    "top25_REGtracts = income_per_tract[income_per_tract.tract.isin(REGtracts)].tail(round(len(income_per_tract)*0.25)).tract.to_list()"
   ]
  },
  {
   "cell_type": "markdown",
   "id": "935bd8d0",
   "metadata": {},
   "source": [
    "income_per_REGtract.head(round(len(income_per_tract)*0.25)).tract.to_list()\n",
    "                   .head(round(len(income_per_tract)*0.25)).tract.to_list() "
   ]
  },
  {
   "cell_type": "markdown",
   "id": "1d88da8c",
   "metadata": {},
   "source": [
    "### Plot the Distribution of Median Household Incomes for AH vs. Non-AH tracts"
   ]
  },
  {
   "cell_type": "markdown",
   "id": "4eb6c3c6",
   "metadata": {},
   "source": [
    "#### Calculate the Median Income for Each AH Tract (Across All Years)"
   ]
  },
  {
   "cell_type": "code",
   "execution_count": null,
   "id": "93b07348",
   "metadata": {},
   "outputs": [],
   "source": [
    "income_per_AHtract = median_incomes[median_incomes.tract.isin(AHtracts)].groupby('tract').median_income.median().reset_index()\n",
    "income_per_AHtract['median_income'] = income_per_AHtract.median_income.astype(int)\n",
    "income_per_AHtract = income_per_AHtract.sort_values(by='median_income').reset_index(drop=True)"
   ]
  },
  {
   "cell_type": "markdown",
   "id": "a9f2564b",
   "metadata": {},
   "source": [
    "#### Calculate the Median Income for Each Non-AH Tract (Across All Years)"
   ]
  },
  {
   "cell_type": "code",
   "execution_count": null,
   "id": "f3c92425",
   "metadata": {},
   "outputs": [],
   "source": [
    "# Determine the median income for each NON-AH tract (the median income across all years)\n",
    "income_per_REGtract = median_incomes[median_incomes.tract.isin(REGtracts)].groupby('tract').median_income.median().reset_index()\n",
    "income_per_REGtract['median_income'] = income_per_REGtract.median_income.astype(int)\n",
    "income_per_REGtract = income_per_REGtract.sort_values(by='median_income').reset_index(drop=True)"
   ]
  },
  {
   "cell_type": "markdown",
   "id": "dcf83bab",
   "metadata": {},
   "source": [
    "#### Plot the Results"
   ]
  },
  {
   "cell_type": "code",
   "execution_count": null,
   "id": "004a1651",
   "metadata": {},
   "outputs": [],
   "source": [
    "fig, ax = plt.subplots(figsize=(10,6))\n",
    "\n",
    "sns.histplot(x='median_income', data=income_per_REGtract, bins=15, stat='proportion', alpha=1, color='#0F0064')\n",
    "sns.histplot(x='median_income', data=income_per_AHtract, bins=12, stat='proportion', alpha=0.7, color='#F3C400')\n",
    "\n",
    "plt.title('Distribution of Median Household Income',\n",
    "          fontsize=14,\n",
    "          fontweight='bold')\n",
    "plt.xlabel('Median Household Income',\n",
    "           fontsize=12,\n",
    "           fontweight='bold')\n",
    "plt.ylabel('Percentage of Total Tracts',\n",
    "           fontsize=12,\n",
    "           fontweight='bold')\n",
    "\n",
    "ax.legend(['Without AH', 'With AH\\n(Developments Built Before 2010)'])\n",
    "ax.xaxis.set_major_formatter(StrMethodFormatter('${x:,g}'))\n",
    "ax.yaxis.set_major_formatter(mtick.PercentFormatter(xmax=1, decimals=0))\n",
    "\n",
    "plt.tight_layout()\n",
    "#plt.savefig('../images/dist_incomes.png')"
   ]
  },
  {
   "cell_type": "markdown",
   "id": "e94ba4de",
   "metadata": {},
   "source": [
    "## Calculate Median Incomes for Each Year and the Average Percent Income Growth<br>(2010 vs. 2020)"
   ]
  },
  {
   "cell_type": "markdown",
   "id": "7947afa3",
   "metadata": {},
   "source": [
    "#### Conclusions:\n",
    "     Lower Income Tracts:\n",
    "     a.    Overall: 7% per year\n",
    "     b. Without AH: 4% per year\n",
    "     c.    With AH: 7% per year\n",
    "     \n",
    "     Upper Income Tracts:\n",
    "     a.    Overall: 3% per year\n",
    "     b. Without AH: 3% per year\n",
    "     c.    With AH: 5% per year\n",
    "     \n",
    "     All Income Tracts:\n",
    "     a.    Overall: 4% per year\n",
    "     b. Without AH: 3% per year\n",
    "     c.    With AH: 5% per year\n",
    "     "
   ]
  },
  {
   "cell_type": "markdown",
   "id": "420b14f6",
   "metadata": {},
   "source": [
    "### For All Tracts"
   ]
  },
  {
   "cell_type": "markdown",
   "id": "47889ca6",
   "metadata": {},
   "source": [
    "#### All Incomes"
   ]
  },
  {
   "cell_type": "code",
   "execution_count": null,
   "id": "55608cfb",
   "metadata": {
    "scrolled": true
   },
   "outputs": [],
   "source": [
    "income_per_year = median_incomes.groupby('year').median_income.median().to_frame().reset_index()\n",
    "income_per_year['median_income'] = income_per_year.median_income.round(-2).astype(int)\n",
    "income_per_year = income_per_year.sort_values(by='year').reset_index(drop=True)"
   ]
  },
  {
   "cell_type": "code",
   "execution_count": null,
   "id": "6d436a3b",
   "metadata": {
    "scrolled": true
   },
   "outputs": [],
   "source": [
    "# Percent growth per year\n",
    "income2010 = income_per_year._get_value(0, 'median_income')\n",
    "income2020 = income_per_year._get_value(10, 'median_income')\n",
    "\n",
    "income_change = income2020 - income2010\n",
    "\n",
    "perc_incr = int(round(income_change / income2010 * 100, -1))\n",
    "perc_incr_yearly = int(round(perc_incr / 10))\n",
    "print('Median Household Incomes for all tracts increased by', str(perc_incr) + '% or by an average of',\n",
    "      str(perc_incr_yearly) + '% per year.')"
   ]
  },
  {
   "cell_type": "markdown",
   "id": "53b6e721",
   "metadata": {},
   "source": [
    "#### Lower Incomes"
   ]
  },
  {
   "cell_type": "code",
   "execution_count": null,
   "id": "6dba81a7",
   "metadata": {
    "scrolled": true
   },
   "outputs": [],
   "source": [
    "bottom25_income_per_year = median_incomes[median_incomes.tract.isin(bottom25_tracts)].groupby('year').median_income.median().to_frame().reset_index()\n",
    "bottom25_income_per_year['median_income'] = bottom25_income_per_year.median_income.round(-2).astype(int)\n",
    "bottom25_income_per_year = bottom25_income_per_year.sort_values(by='year').reset_index(drop=True)"
   ]
  },
  {
   "cell_type": "code",
   "execution_count": null,
   "id": "f2e2db58",
   "metadata": {
    "scrolled": true
   },
   "outputs": [],
   "source": [
    "# Percent growth per year\n",
    "bottom25_income2010 = bottom25_income_per_year._get_value(0, 'median_income')\n",
    "bottom25_income2020 = bottom25_income_per_year._get_value(10, 'median_income')\n",
    "\n",
    "bottom25_income_change = bottom25_income2020 - bottom25_income2010\n",
    "\n",
    "bottom25_perc_incr = int(round(bottom25_income_change / bottom25_income2010 * 100, -1))\n",
    "bottom25_perc_incr_yearly = int(round(bottom25_perc_incr / 10))\n",
    "print('Median Household Incomes for all tracts in the Bottom 25% increased by', str(bottom25_perc_incr) + '% or by an average of',\n",
    "      str(bottom25_perc_incr_yearly) + '% per year.')"
   ]
  },
  {
   "cell_type": "markdown",
   "id": "a4d9f568",
   "metadata": {},
   "source": [
    "#### Upper Incomes"
   ]
  },
  {
   "cell_type": "code",
   "execution_count": null,
   "id": "a85343cd",
   "metadata": {
    "scrolled": true
   },
   "outputs": [],
   "source": [
    "top25_income_per_year = median_incomes[median_incomes.tract.isin(top25_tracts)].groupby('year').median_income.median().to_frame().reset_index()\n",
    "top25_income_per_year['median_income'] = top25_income_per_year.median_income.round(-2).astype(int)\n",
    "top25_income_per_year = top25_income_per_year.sort_values(by='year').reset_index(drop=True)"
   ]
  },
  {
   "cell_type": "code",
   "execution_count": null,
   "id": "d6bd9336",
   "metadata": {},
   "outputs": [],
   "source": [
    "# Percent growth per year\n",
    "top25_income2010 = top25_income_per_year._get_value(0, 'median_income')\n",
    "top25_income2020 = top25_income_per_year._get_value(10, 'median_income')\n",
    "\n",
    "top25_income_change = top25_income2020 - top25_income2010\n",
    "\n",
    "top25_perc_incr = int(round(top25_income_change / top25_income2010 * 100, -1))\n",
    "top25_perc_incr_yearly = int(round(top25_perc_incr / 10))\n",
    "print('Median Household Incomes for all tracts in the Top 25% increased by', str(top25_perc_incr) + '% or by an average of',\n",
    "      str(top25_perc_incr_yearly) + '% per year.')"
   ]
  },
  {
   "cell_type": "markdown",
   "id": "bd1d71c3",
   "metadata": {},
   "source": [
    "### For AH Tracts"
   ]
  },
  {
   "cell_type": "markdown",
   "id": "99e7abf6",
   "metadata": {},
   "source": [
    "#### All Incomes"
   ]
  },
  {
   "cell_type": "code",
   "execution_count": null,
   "id": "b4f7f2e9",
   "metadata": {
    "scrolled": false
   },
   "outputs": [],
   "source": [
    "AHincome_per_year = median_incomes[median_incomes.tract.isin(AHtracts)].groupby('year').median_income.median().to_frame().reset_index()\n",
    "AHincome_per_year['median_income'] = AHincome_per_year.median_income.round(-2).astype(int)\n",
    "AHincome_per_year = AHincome_per_year.sort_values(by='year').reset_index(drop=True)"
   ]
  },
  {
   "cell_type": "code",
   "execution_count": null,
   "id": "b0a1dc0e",
   "metadata": {},
   "outputs": [],
   "source": [
    "# Percent growth per year\n",
    "AHincome2010 = AHincome_per_year._get_value(0, 'median_income')\n",
    "AHincome2020 = AHincome_per_year._get_value(10, 'median_income')\n",
    "\n",
    "AHincome_change = AHincome2020 - AHincome2010\n",
    "\n",
    "AHperc_incr = int(round(AHincome_change / AHincome2010 * 100, -1))\n",
    "AHperc_incr_yearly = int(round(AHperc_incr / 10))\n",
    "print('Median Household Incomes for all AH tracts increased by', str(AHperc_incr) + '% or by an average of',\n",
    "      str(AHperc_incr_yearly) + '% per year.')"
   ]
  },
  {
   "cell_type": "markdown",
   "id": "523beac3",
   "metadata": {},
   "source": [
    "#### Lower Incomes"
   ]
  },
  {
   "cell_type": "code",
   "execution_count": null,
   "id": "b868ef31",
   "metadata": {
    "scrolled": true
   },
   "outputs": [],
   "source": [
    "bottom25_AHincome_per_year = median_incomes[median_incomes.tract.isin(bottom25_AHtracts)].groupby('year').median_income.median().to_frame().reset_index()\n",
    "bottom25_AHincome_per_year['median_income'] = bottom25_AHincome_per_year.median_income.round(-2).astype(int)\n",
    "bottom25_AHincome_per_year = bottom25_AHincome_per_year.sort_values(by='year').reset_index(drop=True)"
   ]
  },
  {
   "cell_type": "code",
   "execution_count": null,
   "id": "13ed988f",
   "metadata": {
    "scrolled": true
   },
   "outputs": [],
   "source": [
    "# Percent growth per year\n",
    "bottom25_AHincome2010 = bottom25_AHincome_per_year._get_value(0, 'median_income')\n",
    "bottom25_AHincome2020 = bottom25_AHincome_per_year._get_value(10, 'median_income')\n",
    "\n",
    "bottom25_AHincome_change = bottom25_AHincome2020 - bottom25_AHincome2010\n",
    "\n",
    "bottom25_AHperc_incr = int(round(bottom25_AHincome_change / bottom25_AHincome2010 * 100, -1))\n",
    "bottom25_AHperc_incr_yearly = int(round(bottom25_AHperc_incr / 10))\n",
    "print('Median Household Incomes for AH tracts in the Bottom 25% increased by', str(bottom25_AHperc_incr) + '% or by an average of',\n",
    "      str(bottom25_AHperc_incr_yearly) + '% per year.')"
   ]
  },
  {
   "cell_type": "markdown",
   "id": "741184ad",
   "metadata": {},
   "source": [
    "#### Upper Incomes"
   ]
  },
  {
   "cell_type": "code",
   "execution_count": null,
   "id": "e0e6182d",
   "metadata": {
    "scrolled": false
   },
   "outputs": [],
   "source": [
    "top25_REGincome_per_year = median_incomes[median_incomes.tract.isin(top25_REGtracts)].groupby('year').median_income.median().to_frame().reset_index()\n",
    "top25_REGincome_per_year['median_income'] = top25_REGincome_per_year.median_income.round(-2).astype(int)\n",
    "top25_REGincome_per_year = top25_REGincome_per_year.sort_values(by='year').reset_index(drop=True)"
   ]
  },
  {
   "cell_type": "code",
   "execution_count": null,
   "id": "d4ce4fa6",
   "metadata": {},
   "outputs": [],
   "source": [
    "# Percent growth per year\n",
    "top25_REGincome2010 = top25_REGincome_per_year._get_value(0, 'median_income')\n",
    "top25_REGincome2020 = top25_REGincome_per_year._get_value(10, 'median_income')\n",
    "\n",
    "top25_REGincome_change = top25_REGincome2020 - top25_REGincome2010\n",
    "\n",
    "top25_REGperc_incr = int(round(top25_REGincome_change / top25_REGincome2010 * 100, -1))\n",
    "top25_REGperc_incr_yearly = int(round(top25_REGperc_incr / 10))\n",
    "print('Median Household Incomes for all tracts in the Top 25% increased by', str(top25_REGperc_incr) + '% or by an average of',\n",
    "      str(top25_REGperc_incr_yearly) + '% per year.')"
   ]
  },
  {
   "cell_type": "markdown",
   "id": "72b25e72",
   "metadata": {},
   "source": [
    "### Non-AH Tracts"
   ]
  },
  {
   "cell_type": "markdown",
   "id": "7997243e",
   "metadata": {},
   "source": [
    "#### All Incomes"
   ]
  },
  {
   "cell_type": "code",
   "execution_count": null,
   "id": "8e7beb39",
   "metadata": {
    "scrolled": false
   },
   "outputs": [],
   "source": [
    "REGincome_per_year = median_incomes[median_incomes.tract.isin(REGtracts)].groupby('year').median_income.median().to_frame().reset_index()\n",
    "REGincome_per_year['median_income'] = REGincome_per_year.median_income.round(-2).astype(int)\n",
    "REGincome_per_year = REGincome_per_year.sort_values(by='year').reset_index(drop=True)"
   ]
  },
  {
   "cell_type": "code",
   "execution_count": null,
   "id": "43b504f0",
   "metadata": {
    "scrolled": true
   },
   "outputs": [],
   "source": [
    "# Percent growth per year\n",
    "REGincome2010 = REGincome_per_year._get_value(0, 'median_income')\n",
    "REGincome2020 = REGincome_per_year._get_value(10, 'median_income')\n",
    "\n",
    "REGincome_change = REGincome2020 - REGincome2010\n",
    "\n",
    "REGperc_incr = int(round(REGincome_change / REGincome2010 * 100, -1))\n",
    "REGperc_incr_yearly = int(round(REGperc_incr / 10))\n",
    "print('Median Household Incomes for REG tracts increased by', str(REGperc_incr) + '% or by an average of',\n",
    "      str(REGperc_incr_yearly) + '% per year.')"
   ]
  },
  {
   "cell_type": "markdown",
   "id": "e9850491",
   "metadata": {},
   "source": [
    "#### Lower Incomes"
   ]
  },
  {
   "cell_type": "code",
   "execution_count": null,
   "id": "ed25e6c3",
   "metadata": {
    "scrolled": true
   },
   "outputs": [],
   "source": [
    "bottom25_REGincome_per_year = median_incomes[median_incomes.tract.isin(bottom25_REGtracts)].groupby('year').median_income.median().to_frame().reset_index()\n",
    "bottom25_REGincome_per_year['median_income'] = bottom25_REGincome_per_year.median_income.round(-2).astype(int)\n",
    "bottom25_REGincome_per_year = bottom25_REGincome_per_year.sort_values(by='year').reset_index(drop=True)"
   ]
  },
  {
   "cell_type": "code",
   "execution_count": null,
   "id": "ca79f8ca",
   "metadata": {
    "scrolled": true
   },
   "outputs": [],
   "source": [
    "# Percent growth per year\n",
    "bottom25_REGincome2010 = bottom25_REGincome_per_year._get_value(0, 'median_income')\n",
    "bottom25_REGincome2020 = bottom25_REGincome_per_year._get_value(10, 'median_income')\n",
    "\n",
    "bottom25_REGincome_change = bottom25_REGincome2020 - bottom25_REGincome2010\n",
    "\n",
    "bottom25_REGperc_incr = int(round(bottom25_REGincome_change / bottom25_REGincome2010 * 100, -1))\n",
    "bottom25_REGperc_incr_yearly = int(round(bottom25_REGperc_incr / 10))\n",
    "print('Median Household Incomes for Non-REG tracts in the Bottom 25% increased by', str(bottom25_REGperc_incr) + '% or by an average of',\n",
    "      str(bottom25_REGperc_incr_yearly) + '% per year.')"
   ]
  },
  {
   "cell_type": "markdown",
   "id": "3038d952",
   "metadata": {},
   "source": [
    "#### Upper Incomes"
   ]
  },
  {
   "cell_type": "code",
   "execution_count": null,
   "id": "10db50d6",
   "metadata": {
    "scrolled": false
   },
   "outputs": [],
   "source": [
    "top25_AHincome_per_year = median_incomes[median_incomes.tract.isin(top25_AHtracts)].groupby('year').median_income.median().to_frame().reset_index()\n",
    "top25_AHincome_per_year['median_income'] = top25_AHincome_per_year.median_income.round(-2).astype(int)\n",
    "top25_AHincome_per_year = top25_AHincome_per_year.sort_values(by='year').reset_index(drop=True)"
   ]
  },
  {
   "cell_type": "code",
   "execution_count": null,
   "id": "fd29451f",
   "metadata": {},
   "outputs": [],
   "source": [
    "# Percent growth per year\n",
    "top25_AHincome2010 = top25_AHincome_per_year._get_value(0, 'median_income')\n",
    "top25_AHincome2020 = top25_AHincome_per_year._get_value(10, 'median_income')\n",
    "\n",
    "top25_AHincome_change = top25_AHincome2020 - top25_AHincome2010\n",
    "\n",
    "top25_AHperc_incr = int(round(top25_AHincome_change / top25_AHincome2010 * 100, -1))\n",
    "top25_AHperc_incr_yearly = int(round(top25_AHperc_incr / 10))\n",
    "print('Median Household Incomes for Non-AH tracts in the Top 25% increased by', str(top25_AHperc_incr) + '% or by an average of',\n",
    "      str(top25_AHperc_incr_yearly) + '% per year.')"
   ]
  },
  {
   "cell_type": "markdown",
   "id": "01af17d9",
   "metadata": {},
   "source": [
    "## Analysis of Home Values"
   ]
  },
  {
   "cell_type": "markdown",
   "id": "fe23ad4c",
   "metadata": {},
   "source": [
    "### Read in the Housing Sales Data\n",
    "Housing data is obtained from a CSV file named 'sales_cleansed_data.csv' that is created by the notebook 'sales_cleansed_data.ipynb' that is in the same GitHub repository."
   ]
  },
  {
   "cell_type": "code",
   "execution_count": null,
   "id": "1d26716e",
   "metadata": {},
   "outputs": [],
   "source": [
    "sales_original_df = pd.read_csv('../data/sales_cleansed_data.csv', index_col=0, dtype={'tract':'string'})\n",
    "sales_original_df.info()"
   ]
  },
  {
   "cell_type": "code",
   "execution_count": null,
   "id": "afb83bc9",
   "metadata": {},
   "outputs": [],
   "source": [
    "sales_df = sales_original_df.copy(deep=True)"
   ]
  },
  {
   "cell_type": "markdown",
   "id": "2eb08933",
   "metadata": {},
   "source": [
    "#### Calculate Median Home Value Per APN Per Year"
   ]
  },
  {
   "cell_type": "code",
   "execution_count": null,
   "id": "5b826025",
   "metadata": {},
   "outputs": [],
   "source": [
    "apn_value_per_year = sales_df.groupby(['tract', 'apn', 'saleyear']).saleamount.median().round(-2).astype(int).reset_index()\n",
    "apn_value_per_year = apn_value_per_year.rename(columns={'saleyear':'year', 'saleamount':'median_value'})"
   ]
  },
  {
   "cell_type": "markdown",
   "id": "3e415d09",
   "metadata": {},
   "source": [
    "### Subset for Non-AH tracts in the bottom 25% median income bracket"
   ]
  },
  {
   "cell_type": "markdown",
   "id": "6079b937",
   "metadata": {},
   "source": [
    "#### For All Tracts"
   ]
  },
  {
   "cell_type": "code",
   "execution_count": null,
   "id": "3ed3fba4",
   "metadata": {},
   "outputs": [],
   "source": [
    "bottom25_sales = apn_value_per_year.loc[apn_value_per_year.tract.isin(bottom25_tracts)]\n",
    "top25_sales = apn_value_per_year.loc[apn_value_per_year.tract.isin(top25_tracts)]"
   ]
  },
  {
   "cell_type": "markdown",
   "id": "2f0611b6",
   "metadata": {},
   "source": [
    "#### For AH Tracts"
   ]
  },
  {
   "cell_type": "code",
   "execution_count": null,
   "id": "b76c93b0",
   "metadata": {},
   "outputs": [],
   "source": [
    "bottom25_AHtract_sales = apn_value_per_year.loc[apn_value_per_year.tract.isin(bottom25_AHtracts)]\n",
    "top25_AHtract_sales = apn_value_per_year.loc[apn_value_per_year.tract.isin(top25_AHtracts)]"
   ]
  },
  {
   "cell_type": "markdown",
   "id": "84811ecc",
   "metadata": {},
   "source": [
    "#### For Non-AH Tracts"
   ]
  },
  {
   "cell_type": "code",
   "execution_count": null,
   "id": "4ff2f8c1",
   "metadata": {},
   "outputs": [],
   "source": [
    "bottom25_REGtract_sales = apn_value_per_year.loc[apn_value_per_year.tract.isin(bottom25_REGtracts)]\n",
    "top25_REGtract_sales = apn_value_per_year.loc[apn_value_per_year.tract.isin(top25_REGtracts)]"
   ]
  },
  {
   "cell_type": "markdown",
   "id": "9c4827a4",
   "metadata": {},
   "source": [
    "## Compare Median Home Prices for Bottom and Top 25% Median Income Level Tracts from 2010-2022"
   ]
  },
  {
   "cell_type": "markdown",
   "id": "18326463",
   "metadata": {},
   "source": [
    "### Calculate Median Home Prices for Bottom and Top 25% Tracts WITH Affordable Housing"
   ]
  },
  {
   "cell_type": "code",
   "execution_count": null,
   "id": "be1a2da4",
   "metadata": {},
   "outputs": [],
   "source": [
    "# Calculate the median home price for each of the bottom 25% AH tracts\n",
    "bottom25_AHtract_values = bottom25_AHtract_sales.groupby('year').median_value.median().round(-3).astype(int).reset_index().sort_values(by='year')"
   ]
  },
  {
   "cell_type": "code",
   "execution_count": null,
   "id": "b2c8614a",
   "metadata": {
    "scrolled": false
   },
   "outputs": [],
   "source": [
    "# Calculate the median home price for each of the top 25% AH tracts\n",
    "top25_AHtract_values = top25_AHtract_sales.groupby('year').median_value.median().round(-3).astype(int).reset_index().sort_values(by='year')"
   ]
  },
  {
   "cell_type": "markdown",
   "id": "0b91c8b2",
   "metadata": {},
   "source": [
    "### Calculate Median Home Prices for Bottom and Top 25% Tracts WITHOUT Affordable Housing"
   ]
  },
  {
   "cell_type": "code",
   "execution_count": null,
   "id": "f67e6a40",
   "metadata": {},
   "outputs": [],
   "source": [
    "# Calculate the median home price for each year for the bottom 25% NON-AH tracts\n",
    "bottom25_REGtract_values = bottom25_REGtract_sales.groupby('year').median_value.median().round(-3).astype(int).reset_index().sort_values(by='year')"
   ]
  },
  {
   "cell_type": "code",
   "execution_count": null,
   "id": "913acdea",
   "metadata": {
    "scrolled": false
   },
   "outputs": [],
   "source": [
    "# Calculate the median home price for each of the top 25% AH tracts\n",
    "top25_REGtract_values = top25_REGtract_sales.groupby('year').median_value.median().round(-3).astype(int).reset_index().sort_values(by='year')"
   ]
  },
  {
   "cell_type": "markdown",
   "id": "e9819907",
   "metadata": {},
   "source": [
    "## Try to Plot them Side by Side"
   ]
  },
  {
   "cell_type": "code",
   "execution_count": null,
   "id": "dcc40af8",
   "metadata": {
    "scrolled": false
   },
   "outputs": [],
   "source": [
    "fig, axes = plt.subplots(figsize=(10,6), nrows=1, ncols=2)\n",
    "\n",
    "axes[0].axvline(x=2020, color='#E0E0E0', linestyle=':', linewidth=1)\n",
    "axes[1].axvline(x=2020, color='#E0E0E0', linestyle=':', linewidth=1)\n",
    "\n",
    "ax1, = axes[0].plot('year', 'median_value', data=bottom25_REGtract_values, color='#0F0064')\n",
    "ax2, = axes[0].plot('year', 'median_value', data=bottom25_AHtract_values, color='#F3C400')\n",
    "axes[1].plot('year', 'median_value', data=top25_REGtract_values, color='#0F0064')\n",
    "axes[1].plot('year', 'median_value', data=top25_AHtract_values, color='#F3C400')\n",
    "\n",
    "axes[0].set_ylim([25000,525000])\n",
    "axes[1].set_ylim([25000,525000])\n",
    "\n",
    "axes[0].legend(handles=[ax1,\n",
    "                        ax2],\n",
    "               labels=['Without AH',\n",
    "                       'With AH\\n(Developments Built Before 2010)'],\n",
    "               loc='upper left',\n",
    "               fontsize=9)\n",
    "\n",
    "plt.suptitle('Growth of Median Home Value' +\n",
    "             '\\n(Tracts in the Bottom and Top 25% of Median Household Incomes)',\n",
    "                  fontsize=14,\n",
    "                  fontweight='bold')\n",
    "\n",
    "axes[0].set_title('Bottom 25%',\n",
    "                  fontsize=12,\n",
    "                  fontweight='bold')\n",
    "axes[1].set_title('Top 25%',\n",
    "                  fontsize=12,\n",
    "                  fontweight='bold')\n",
    "\n",
    "axes[1].set_xlabel('Year',\n",
    "                   fontsize=12,\n",
    "                   fontweight='bold',\n",
    "                   loc='left')\n",
    "axes[0].set_ylabel('Home Value',\n",
    "                   fontsize=12,\n",
    "                   fontweight='bold')\n",
    "\n",
    "axes[0].yaxis.set_major_formatter(StrMethodFormatter('${x:,g}'))\n",
    "axes[1].set_yticklabels([],\n",
    "                   fontsize=12,\n",
    "                   fontweight='bold')\n",
    "\n",
    "axes[0].grid(visible=True, axis='y', color='#EEEEEE')\n",
    "axes[1].grid(visible=True, axis='y', color='#EEEEEE')\n",
    "\n",
    "plt.tight_layout()\n",
    "#plt.savefig('../images/value_wvswo_topbot25.png')"
   ]
  },
  {
   "cell_type": "markdown",
   "id": "34b55b53",
   "metadata": {},
   "source": [
    "### Percent Growth of Home Prices for Lower Incomes, 2010 vs 2020"
   ]
  },
  {
   "cell_type": "markdown",
   "id": "4cc3bea0",
   "metadata": {},
   "source": [
    "#### For AH Tracts"
   ]
  },
  {
   "cell_type": "code",
   "execution_count": null,
   "id": "2829afa4",
   "metadata": {
    "scrolled": true
   },
   "outputs": [],
   "source": [
    "bottom25_AHvalue2010 = bottom25_AHtract_values._get_value(0, 'median_value')\n",
    "bottom25_AHvalue2020 = bottom25_AHtract_values._get_value(10, 'median_value')\n",
    "\n",
    "bottom25_AHvaldiff = bottom25_AHvalue2020 - bottom25_AHvalue2010\n",
    "\n",
    "bottom25AH_percincr = int(round(bottom25_AHvaldiff / bottom25_AHvalue2010 * 100, -1))\n",
    "bottom25AH_percincr_yearly = int(round((bottom25_AHvaldiff / bottom25_AHvalue2010 * 100) / 10))\n",
    "print('Home prices for tracts WITH AH increased by', str(bottom25AH_percincr) + '% or by an average of',\n",
    "      str(bottom25AH_percincr_yearly) + '% per year.')"
   ]
  },
  {
   "cell_type": "markdown",
   "id": "e6b11ada",
   "metadata": {},
   "source": [
    "#### For Non-AH Tracts"
   ]
  },
  {
   "cell_type": "code",
   "execution_count": null,
   "id": "132046f0",
   "metadata": {},
   "outputs": [],
   "source": [
    "bottom25_REGvalue2010 = bottom25_REGtract_values._get_value(0, 'median_value')\n",
    "bottom25_REGvalue2020 = bottom25_REGtract_values._get_value(10, 'median_value')\n",
    "\n",
    "bottom25_REGvaldiff = bottom25_REGvalue2020 - bottom25_REGvalue2010\n",
    "\n",
    "bottom25REG_percincr = int(round(bottom25_REGvaldiff / bottom25_REGvalue2010 * 100, -1))\n",
    "bottom25REG_percincr_yearly = int(round((bottom25_REGvaldiff / bottom25_REGvalue2010 * 100) / 10))\n",
    "print('Home prices for tracts without AH increased by', str(bottom25REG_percincr) + '% or by an average of',\n",
    "      str(bottom25REG_percincr_yearly) + '% per year.')"
   ]
  },
  {
   "cell_type": "markdown",
   "id": "e9fc8a19",
   "metadata": {},
   "source": [
    "### Percent Growth of Home Prices for Higher Incomes, 2010 vs 2020"
   ]
  },
  {
   "cell_type": "markdown",
   "id": "cff12ca1",
   "metadata": {},
   "source": [
    "#### For AH Tracts"
   ]
  },
  {
   "cell_type": "code",
   "execution_count": null,
   "id": "391a239b",
   "metadata": {
    "scrolled": true
   },
   "outputs": [],
   "source": [
    "top25_AHvalue2010 = top25_AHtract_values._get_value(0, 'median_value')\n",
    "top25_AHvalue2020 = top25_AHtract_values._get_value(10, 'median_value')\n",
    "\n",
    "top25_AHvaldiff = top25_AHvalue2020 - top25_AHvalue2010\n",
    "\n",
    "top25AH_percincr = int(round(top25_AHvaldiff / top25_AHvalue2010 * 100, -1))\n",
    "top25AH_percincr_yearly = int(round((top25_AHvaldiff / top25_AHvalue2010 * 100) / 10))\n",
    "print('Home prices for tracts WITH AH increased by', str(top25AH_percincr) + '% or by an average of',\n",
    "      str(top25AH_percincr_yearly) + '% per year.')"
   ]
  },
  {
   "cell_type": "markdown",
   "id": "ebb1aaf8",
   "metadata": {},
   "source": [
    "#### For Non-AH Tracts"
   ]
  },
  {
   "cell_type": "code",
   "execution_count": null,
   "id": "b11edf4e",
   "metadata": {},
   "outputs": [],
   "source": [
    "top25_REGvalue2010 = top25_REGtract_values._get_value(0, 'median_value')\n",
    "top25_REGvalue2020 = top25_REGtract_values._get_value(10, 'median_value')\n",
    "\n",
    "top25_REGvaldiff = top25_REGvalue2020 - top25_REGvalue2010\n",
    "\n",
    "top25REG_percincr = int(round(top25_REGvaldiff / top25_REGvalue2010 * 100, -1))\n",
    "top25REG_percincr_yearly = int(round((top25_REGvaldiff / top25_REGvalue2010 * 100) / 10))\n",
    "print('Home prices for tracts without AH increased by', str(top25REG_percincr) + '% or by an average of',\n",
    "      str(top25REG_percincr_yearly) + '% per year.')"
   ]
  }
 ],
 "metadata": {
  "kernelspec": {
   "display_name": "Python 3 (ipykernel)",
   "language": "python",
   "name": "python3"
  },
  "language_info": {
   "codemirror_mode": {
    "name": "ipython",
    "version": 3
   },
   "file_extension": ".py",
   "mimetype": "text/x-python",
   "name": "python",
   "nbconvert_exporter": "python",
   "pygments_lexer": "ipython3",
   "version": "3.9.13"
  }
 },
 "nbformat": 4,
 "nbformat_minor": 5
}
