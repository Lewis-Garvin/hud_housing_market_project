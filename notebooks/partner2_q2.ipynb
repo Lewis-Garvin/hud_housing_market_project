{
 "cells": [
  {
   "cell_type": "markdown",
   "id": "0f29b67b",
   "metadata": {},
   "source": [
    "link to canva pres - https://www.canva.com/design/DAFTiM9bHhE/GSod190mxbujP5UBomYi9w/view?utm_content=DA[…]mpaign=designshare&utm_medium=link&utm_source=publishsharelink"
   ]
  },
  {
   "cell_type": "code",
   "execution_count": null,
   "id": "9887a42d",
   "metadata": {},
   "outputs": [],
   "source": [
    "import pandas as pd\n",
    "import sqlite3 as sql\n",
    "from sqlalchemy import create_engine\n",
    "import matplotlib.pyplot as plt\n",
    "import seaborn as sns\n",
    "from matplotlib.ticker import FormatStrFormatter, StrMethodFormatter"
   ]
  },
  {
   "cell_type": "code",
   "execution_count": null,
   "id": "35051f0f",
   "metadata": {},
   "outputs": [],
   "source": [
    "#Datatypes dictionary\n",
    "sales_datatypes = {'apn':'str',\n",
    "                   'pin':'str',\n",
    "                   'saleamount':'int',\n",
    "                   \"tract\":\"str\",\n",
    "                   \"saleyear\":\"int\"}"
   ]
  },
  {
   "cell_type": "code",
   "execution_count": null,
   "id": "b8eb91a4",
   "metadata": {},
   "outputs": [],
   "source": [
    "sales_df = pd.read_csv('../data/sales_cleansed_data.csv', dtype = sales_datatypes)"
   ]
  },
  {
   "cell_type": "code",
   "execution_count": null,
   "id": "f89b5907",
   "metadata": {
    "scrolled": true
   },
   "outputs": [],
   "source": [
    "sales_df = sales_df.drop(columns = ['saledate', 'Unnamed: 0'])"
   ]
  },
  {
   "cell_type": "code",
   "execution_count": null,
   "id": "5e50a9c2",
   "metadata": {
    "scrolled": false
   },
   "outputs": [],
   "source": [
    "sales_df.dtypes"
   ]
  },
  {
   "cell_type": "code",
   "execution_count": null,
   "id": "f32e24a5",
   "metadata": {},
   "outputs": [],
   "source": [
    "sales_df['tract'] = sales_df['tract'].astype(str)"
   ]
  },
  {
   "cell_type": "code",
   "execution_count": null,
   "id": "e530d011",
   "metadata": {},
   "outputs": [],
   "source": [
    "# sale with multiple apns in a year averaged\n",
    "sales_df_avg_apnyr_1 = sales_df.groupby(['tract','apn', 'saleyear', 'ludesc'])['saleamount'].agg('mean').reset_index()"
   ]
  },
  {
   "cell_type": "markdown",
   "id": "a092e4f7",
   "metadata": {},
   "source": [
    "## see how many sales for tract in a year for selected tracts"
   ]
  },
  {
   "cell_type": "code",
   "execution_count": null,
   "id": "9fabc714",
   "metadata": {
    "scrolled": true
   },
   "outputs": [],
   "source": [
    "pd.set_option('display.max_rows', None)\n",
    "t10903_apn_sales = sales_df_avg_apnyr_1.loc[sales_df_avg_apnyr_1.tract == '10903']"
   ]
  },
  {
   "cell_type": "code",
   "execution_count": null,
   "id": "7ce57501",
   "metadata": {},
   "outputs": [],
   "source": [
    "t10903_apn_sales.head()"
   ]
  },
  {
   "cell_type": "code",
   "execution_count": null,
   "id": "8b81816c",
   "metadata": {},
   "outputs": [],
   "source": [
    "t10903_apn_sales.saleyear.value_counts()"
   ]
  },
  {
   "cell_type": "code",
   "execution_count": null,
   "id": "363ab406",
   "metadata": {},
   "outputs": [],
   "source": [
    "t13700_apn_sales = sales_df_avg_apnyr_1.loc[sales_df_avg_apnyr_1.tract == '13700']"
   ]
  },
  {
   "cell_type": "code",
   "execution_count": null,
   "id": "85e31b17",
   "metadata": {},
   "outputs": [],
   "source": [
    "t13700_apn_sales.saleyear.value_counts()"
   ]
  },
  {
   "cell_type": "code",
   "execution_count": null,
   "id": "8fb47185",
   "metadata": {},
   "outputs": [],
   "source": [
    "t10802_apn_sales = sales_df_avg_apnyr_1.loc[sales_df_avg_apnyr_1.tract == '10802']"
   ]
  },
  {
   "cell_type": "code",
   "execution_count": null,
   "id": "9d7d2d4c",
   "metadata": {},
   "outputs": [],
   "source": [
    "t10802_apn_sales.saleyear.value_counts()"
   ]
  },
  {
   "cell_type": "code",
   "execution_count": null,
   "id": "31b4f716",
   "metadata": {},
   "outputs": [],
   "source": [
    "t15613_apn_sales = sales_df_avg_apnyr_1.loc[sales_df_avg_apnyr_1.tract == '15613']"
   ]
  },
  {
   "cell_type": "code",
   "execution_count": null,
   "id": "b7b68e00",
   "metadata": {},
   "outputs": [],
   "source": [
    "t15613_apn_sales.saleyear.value_counts()"
   ]
  },
  {
   "cell_type": "code",
   "execution_count": null,
   "id": "08d84aba",
   "metadata": {},
   "outputs": [],
   "source": [
    "sales_df.tract.unique()"
   ]
  },
  {
   "cell_type": "code",
   "execution_count": null,
   "id": "033ca5de",
   "metadata": {},
   "outputs": [],
   "source": [
    "# probably nbd, but it looks like apn format changed over the years\n",
    "sales_df_avg_apnyr_1.loc[sales_df['apn'].str.contains('I')]"
   ]
  },
  {
   "cell_type": "code",
   "execution_count": null,
   "id": "a0fe7ecf",
   "metadata": {
    "scrolled": true
   },
   "outputs": [],
   "source": [
    "# sales amount avg by tract and year\n",
    "sales_df_avg_apnyr = sales_df_avg_apnyr_1.groupby(['tract', 'saleyear'])['saleamount'].agg('median').reset_index()"
   ]
  },
  {
   "cell_type": "code",
   "execution_count": null,
   "id": "c4cc23cf",
   "metadata": {},
   "outputs": [],
   "source": [
    "sales_df_avg_apnyr.loc[sales_df_avg_apnyr.tract == 10103]"
   ]
  },
  {
   "cell_type": "code",
   "execution_count": null,
   "id": "dc243749",
   "metadata": {},
   "outputs": [],
   "source": [
    "# total tracts \n",
    "sales_df_avg_apnyr.tract.nunique()"
   ]
  },
  {
   "cell_type": "code",
   "execution_count": null,
   "id": "8281ee4e",
   "metadata": {},
   "outputs": [],
   "source": [
    "# lihtc contains only tracts that have low income housing projects\n",
    "lihtc = pd.read_csv('../data/LIHTC.csv')"
   ]
  },
  {
   "cell_type": "code",
   "execution_count": null,
   "id": "185a4bf0",
   "metadata": {
    "scrolled": false
   },
   "outputs": [],
   "source": [
    "pd.set_option('display.max_columns', None)\n",
    "lihtc.head()"
   ]
  },
  {
   "cell_type": "code",
   "execution_count": null,
   "id": "da4d2395",
   "metadata": {},
   "outputs": [],
   "source": [
    "#61 tracts with lih/hud project\n",
    "lihtc.FIPS2010.nunique()"
   ]
  },
  {
   "cell_type": "code",
   "execution_count": null,
   "id": "21ebd9a1",
   "metadata": {
    "scrolled": false
   },
   "outputs": [],
   "source": [
    "lihtc.FIPS2010.unique()"
   ]
  },
  {
   "cell_type": "code",
   "execution_count": null,
   "id": "cbccae10",
   "metadata": {},
   "outputs": [],
   "source": [
    "# need to add tracks with barnes projects\n",
    "barnes = pd.read_csv('../data/barnes.csv')"
   ]
  },
  {
   "cell_type": "code",
   "execution_count": null,
   "id": "6e6d46f1",
   "metadata": {
    "scrolled": true
   },
   "outputs": [],
   "source": [
    "# barnes was created in 2013, so barnes year is likely year of finished project\n",
    "barnes"
   ]
  },
  {
   "cell_type": "code",
   "execution_count": null,
   "id": "c55f8566",
   "metadata": {},
   "outputs": [],
   "source": [
    "barnes['tract'] = ['13701', '14400', '13701', '15623', '17200', '10702', '19502', '12801', '15900']"
   ]
  },
  {
   "cell_type": "code",
   "execution_count": null,
   "id": "0c7a04ca",
   "metadata": {},
   "outputs": [],
   "source": [
    "barnes"
   ]
  },
  {
   "cell_type": "markdown",
   "id": "acb6a1dc",
   "metadata": {},
   "source": [
    "## List of tracts with and without affhous over all (159 tracts total)"
   ]
  },
  {
   "cell_type": "code",
   "execution_count": null,
   "id": "a72ac00a",
   "metadata": {},
   "outputs": [],
   "source": [
    "# all lihtc tracts, with 1 (last) tract added from barnes. The rest of barnes tracts were either already in the lihtc df, or were not in the filtered sales df\n",
    "sales_with_affhous = sales_df_avg_apnyr.loc[sales_df_avg_apnyr.tract.isin(['12801', '19108', '19200', '11800', '12702', '11001', '19400', '11300', '11200',\n",
    "       '12701', '13900', '13800', '13700','12600', '14300', '13500', '19300', '10903',\n",
    "       '19500', '11400', '12100', '17401', '15618', '17000', '11700', '15622', '17100',\n",
    "       '13300', '10302', '19116', '18202', '15629', '15502', '10501', '11002', '10402',\n",
    "       '16200', '16100', '10401', '13601', '19105', '15900', '10301', '15610', '15620',\n",
    "       '14400', '10702', '15623', '15628', '19005', '11900', '10904', '10201', '18601',\n",
    "       '15624', '15615', '10202', '15612', '15804', '10601', '17500', '17200'])]"
   ]
  },
  {
   "cell_type": "code",
   "execution_count": null,
   "id": "d19e14ab",
   "metadata": {},
   "outputs": [],
   "source": [
    "sales_with_affhous.tract.nunique()"
   ]
  },
  {
   "cell_type": "code",
   "execution_count": null,
   "id": "159a7e36",
   "metadata": {},
   "outputs": [],
   "source": [
    "sales_wo_affhous = sales_df_avg_apnyr.loc[~sales_df_avg_apnyr.tract.isin(['12801', '19108', '19200', '11800', '12702', '11001', '19400', '11300', '11200',\n",
    "       '12701', '13900', '13800', '13700','12600', '14300', '13500', '19300', '10903',\n",
    "       '19500', '11400', '12100', '17401', '15618', '17000', '11700', '15622', '17100',\n",
    "       '13300', '10302', '19116', '18202', '15629', '15502', '10501', '11002', '10402',\n",
    "       '16200', '16100', '10401', '13601', '19105', '15900', '10301', '15610', '15620',\n",
    "       '14400', '10702', '15623', '15628', '19005', '11900', '10904', '10201', '18601',\n",
    "       '15624', '15615', '10202', '15612', '15804', '10601', '17500', '17200'])]"
   ]
  },
  {
   "cell_type": "code",
   "execution_count": null,
   "id": "3b781877",
   "metadata": {},
   "outputs": [],
   "source": [
    "sales_wo_affhous.tract.nunique()"
   ]
  },
  {
   "cell_type": "code",
   "execution_count": null,
   "id": "d7e9eb72",
   "metadata": {
    "scrolled": false
   },
   "outputs": [],
   "source": [
    "sales_with_affhous.head()"
   ]
  },
  {
   "cell_type": "code",
   "execution_count": null,
   "id": "13830104",
   "metadata": {},
   "outputs": [],
   "source": [
    "plt.figure(figsize = (15,9))\n",
    "sns.scatterplot(data = sales_with_affhous, \n",
    "                x = 'tract',\n",
    "                y = 'saleamount', \n",
    "                hue = 'saleyear')\n",
    "plt.xticks(rotation = 90);"
   ]
  },
  {
   "cell_type": "code",
   "execution_count": null,
   "id": "f38b3e76",
   "metadata": {},
   "outputs": [],
   "source": [
    "sales_with_affhous.shape"
   ]
  },
  {
   "cell_type": "code",
   "execution_count": null,
   "id": "62f6cc7a",
   "metadata": {
    "scrolled": true
   },
   "outputs": [],
   "source": [
    "sales_wo_affhous"
   ]
  },
  {
   "cell_type": "code",
   "execution_count": null,
   "id": "34fd4269",
   "metadata": {},
   "outputs": [],
   "source": [
    "plt.figure(figsize = (15,9))\n",
    "sns.scatterplot(data = sales_wo_affhous, \n",
    "                x = 'tract',\n",
    "                y = 'saleamount', \n",
    "                hue = 'saleyear')\n",
    "plt.xticks(rotation = 90);"
   ]
  },
  {
   "cell_type": "code",
   "execution_count": null,
   "id": "1675c870",
   "metadata": {},
   "outputs": [],
   "source": [
    "# more over all sales since 2010\n",
    "sales_wo_affhous.shape"
   ]
  },
  {
   "cell_type": "markdown",
   "id": "960c94a7",
   "metadata": {},
   "source": [
    "## need to figure out how to include year HUD was placed to compare"
   ]
  },
  {
   "cell_type": "code",
   "execution_count": null,
   "id": "2501865e",
   "metadata": {
    "scrolled": false
   },
   "outputs": [],
   "source": [
    "pd.set_option('display.max_columns', None)\n",
    "lihtc.head()"
   ]
  },
  {
   "cell_type": "code",
   "execution_count": null,
   "id": "d2a44552",
   "metadata": {},
   "outputs": [],
   "source": [
    "lihtc.dtypes"
   ]
  },
  {
   "cell_type": "code",
   "execution_count": null,
   "id": "18ed9fc5",
   "metadata": {},
   "outputs": [],
   "source": [
    "lihtc.YR_PIS.unique()"
   ]
  },
  {
   "cell_type": "markdown",
   "id": "cc25fd28",
   "metadata": {},
   "source": [
    "## in LIHTC df of projects put in place before 2010, then find all the tracts in that df"
   ]
  },
  {
   "cell_type": "code",
   "execution_count": null,
   "id": "355457ba",
   "metadata": {},
   "outputs": [],
   "source": [
    "# derp, did > and < 2010, excluding 2010, only affects 2 tracts...\n",
    "lihtc.loc[lihtc.YR_PIS == 2010]"
   ]
  },
  {
   "cell_type": "code",
   "execution_count": null,
   "id": "e9313e14",
   "metadata": {},
   "outputs": [],
   "source": [
    "# want to see how many  tracts had HUD projects placed prior to 2010\n",
    "lihtc_before_2010 = lihtc.loc[lihtc.YR_PIS < 2010]"
   ]
  },
  {
   "cell_type": "code",
   "execution_count": null,
   "id": "3948064f",
   "metadata": {},
   "outputs": [],
   "source": [
    "lihtc_after_2010 = lihtc.loc[lihtc.YR_PIS > 2010]"
   ]
  },
  {
   "cell_type": "code",
   "execution_count": null,
   "id": "97c1b390",
   "metadata": {},
   "outputs": [],
   "source": [
    "#tracts that gained affhous after 2010, some over lap with tracts that already had affhous\n",
    "lihtc_after_2010.FIPS2010.unique()"
   ]
  },
  {
   "cell_type": "code",
   "execution_count": null,
   "id": "e22b0e39",
   "metadata": {},
   "outputs": [],
   "source": [
    "lihtc_2011 = lihtc.loc[lihtc.YR_PIS < 2011]"
   ]
  },
  {
   "cell_type": "code",
   "execution_count": null,
   "id": "25b7ad95",
   "metadata": {},
   "outputs": [],
   "source": [
    "lihtc_2011.FIPS2010.unique()"
   ]
  },
  {
   "cell_type": "markdown",
   "id": "83a5f3fd",
   "metadata": {},
   "source": [
    "## List of 49 tracts that had aff housing built before 2010 (nothing from barnes)"
   ]
  },
  {
   "cell_type": "code",
   "execution_count": null,
   "id": "2890642c",
   "metadata": {},
   "outputs": [],
   "source": [
    "# 61 over all, 49 that were before 2010, so in the 10 year period we are comparing, there were 12 tracts that gained HUD projects\n",
    "# and barnes project in tract 17200 was also added after 2010 (in 2017) so 13 tracts over all gained affordable housing in 10 yrs\n",
    "# doesnt include lihtc HUD projects that have no known dates\n",
    "lihtc_before_2010.FIPS2010.unique()"
   ]
  },
  {
   "cell_type": "code",
   "execution_count": null,
   "id": "f4eba5f9",
   "metadata": {
    "scrolled": true
   },
   "outputs": [],
   "source": [
    "# 10903 is tract with most projects (not counted by units, but projects over all)\n",
    "lihtc_before_2010.FIPS2010.value_counts()"
   ]
  },
  {
   "cell_type": "code",
   "execution_count": null,
   "id": "355f9b94",
   "metadata": {},
   "outputs": [],
   "source": [
    "# 10903 has 26 projects and 68 units\n",
    "lihtc_before_2010.loc[lihtc_before_2010.FIPS2010 == 10903]"
   ]
  },
  {
   "cell_type": "code",
   "execution_count": null,
   "id": "bdb2822b",
   "metadata": {},
   "outputs": [],
   "source": [
    "# there are some tracts with less buildings but more over all units like 19005\n",
    "# in this cell, but i think 13700 is a better representative of 'lots of buildings and units'\n",
    "lihtc_before_2010.loc[lihtc_before_2010.FIPS2010 == 19005]"
   ]
  },
  {
   "cell_type": "code",
   "execution_count": null,
   "id": "f9cc98ad",
   "metadata": {},
   "outputs": [],
   "source": [
    "#13700 has 13 projects, 306 units, will use this as it has high projects and units\n",
    "# on census parcel viewer, what lihtc refers to as 13700 is shown as 13701 and 13702\n",
    "lihtc_before_2010.loc[lihtc_before_2010.FIPS2010 == 13700]"
   ]
  },
  {
   "cell_type": "code",
   "execution_count": null,
   "id": "a1b4acf8",
   "metadata": {},
   "outputs": [],
   "source": [
    "# could we use YR_ALLOC as it is often (but not always) close to the YR_PIS when both values are available?\n",
    "lihtc.loc[lihtc.YR_PIS.isin([8888, 9999])]"
   ]
  },
  {
   "cell_type": "code",
   "execution_count": null,
   "id": "760cdc91",
   "metadata": {},
   "outputs": [],
   "source": [
    "# next steps for adding year, can use df with all tracts built before 2010 then search each year after and make new dfs \n",
    "# for each year, individually adding new tracts to the with_affhous_year (and subtracting it from the wo), and have \n",
    "# 20 dataframes (2 for each year w and wo)"
   ]
  },
  {
   "cell_type": "code",
   "execution_count": null,
   "id": "1d878d98",
   "metadata": {},
   "outputs": [],
   "source": [
    "tracts_aff_hous = [12801, 19108, 19200, 11800, 12702, 11001, 19400, 11300, 11200,\n",
    "       12701, 13900, 13800, 13700, 12600, 14300, 13500, 19300, 10903,\n",
    "       19500, 11400, 12100, 17401, 15618, 17000, 11700, 15622, 17100,\n",
    "       13300, 10302, 19116, 18202, 15629, 15502, 10501, 11002, 10402,\n",
    "       16200, 16100, 10401, 13601, 19105, 15900, 10301, 15610, 15620,\n",
    "       14400, 10702, 15623, 15628, 19005, 11900, 10904, 10201, 18601,\n",
    "       15624, 15615, 10202, 15612, 15804, 10601, 17500]\n",
    "tracts_aff_hous_before_2010 = [11001, 19400, 11800, 11300, 11200, 19200, 12701, 13900, 13800,\n",
    "       12702, 13700, 12600, 14300, 13500, 12801, 19300, 10903, 19500,\n",
    "       11400, 12100, 17401, 15618, 17000, 11700, 15622, 17100, 13300,\n",
    "       10302, 19116, 18202, 15629, 15502, 10501, 11002, 10402, 16200,\n",
    "       16100, 10401, 13601, 19105, 15900, 10301, 15610, 15620, 14400,\n",
    "       10702, 15623, 15628, 19005]"
   ]
  },
  {
   "cell_type": "markdown",
   "id": "24f5b43e",
   "metadata": {},
   "source": [
    "## List of 12 tracts from LIHTC that did not have affhous prior to 2010, and then gained affhousing after 2010\n",
    "\n",
    "### to this list add 17200, from barnes, which had a housing dev in 2017"
   ]
  },
  {
   "cell_type": "code",
   "execution_count": null,
   "id": "b5eba86e",
   "metadata": {},
   "outputs": [],
   "source": [
    "# 12 tracts that gained affhous between 2010-2020\n",
    "set(tracts_aff_hous).difference(tracts_aff_hous_before_2010)"
   ]
  },
  {
   "cell_type": "markdown",
   "id": "bc716cb5",
   "metadata": {},
   "source": [
    "## Look at sales data with tracts that had affhousing all 10 years compared with tracts that had no affhousing all 10 years"
   ]
  },
  {
   "cell_type": "code",
   "execution_count": null,
   "id": "6829b35c",
   "metadata": {
    "scrolled": true
   },
   "outputs": [],
   "source": [
    "sales_df_avg_apnyr['tract'] = pd.to_numeric(sales_df_avg_apnyr['tract'])"
   ]
  },
  {
   "cell_type": "code",
   "execution_count": null,
   "id": "2f733f49",
   "metadata": {},
   "outputs": [],
   "source": [
    "sales_with_affhous_10yrs = sales_df_avg_apnyr.loc[sales_df_avg_apnyr.tract.isin([11001, 19400, 11800, 11300, 11200, 19200, 12701, 13900, 13800,\n",
    "       12702, 13700, 12600, 14300, 13500, 12801, 19300, 10903, 19500,\n",
    "       11400, 12100, 17401, 15618, 17000, 11700, 15622, 17100, 13300,\n",
    "       10302, 19116, 18202, 15629, 15502, 10501, 11002, 10402, 16200,\n",
    "       16100, 10401, 13601, 19105, 15900, 10301, 15610, 15620, 14400,\n",
    "       10702, 15623, 15628, 19005])]"
   ]
  },
  {
   "cell_type": "code",
   "execution_count": null,
   "id": "033a08b2",
   "metadata": {},
   "outputs": [],
   "source": [
    "sales_with_affhous_10yrs.tract.nunique()"
   ]
  },
  {
   "cell_type": "code",
   "execution_count": null,
   "id": "2e5b5e04",
   "metadata": {
    "scrolled": true
   },
   "outputs": [],
   "source": [
    "sales_with_affhous_10yrs.head()"
   ]
  },
  {
   "cell_type": "code",
   "execution_count": null,
   "id": "599538ea",
   "metadata": {
    "scrolled": true
   },
   "outputs": [],
   "source": [
    "sales_with_affhous_10yrs['affhous'] = 'Y'"
   ]
  },
  {
   "cell_type": "code",
   "execution_count": null,
   "id": "bf980bd0",
   "metadata": {},
   "outputs": [],
   "source": [
    "sales_with_affhous_10yrs"
   ]
  },
  {
   "cell_type": "code",
   "execution_count": null,
   "id": "d8841024",
   "metadata": {},
   "outputs": [],
   "source": [
    "# should be everything but sales_with before 10 years and the tracts that gained affhous in the \n",
    "# 10 yrs\n",
    "sales_wo_affhous_10yrs = sales_df_avg_apnyr.loc[~sales_df_avg_apnyr.tract.isin([11001, 19400, 11800, 11300, 11200, 19200, 12701, 13900, 13800,\n",
    "       12702, 13700, 12600, 14300, 13500, 12801, 19300, 10903, 19500,\n",
    "       11400, 12100, 17401, 15618, 17000, 11700, 15622, 17100, 13300,\n",
    "       10302, 19116, 18202, 15629, 15502, 10501, 11002, 10402, 16200,\n",
    "       16100, 10401, 13601, 19105, 15900, 10301, 15610, 15620, 14400,\n",
    "       10702, 15623, 15628, 19005, 10201, 10202, 10601, 10904, 11900, 15612, 15615, 15624, 15804, 17500, 18601, 19108, 17200])]"
   ]
  },
  {
   "cell_type": "code",
   "execution_count": null,
   "id": "3e6d20f5",
   "metadata": {},
   "outputs": [],
   "source": [
    "sales_wo_affhous_10yrs.tract.nunique()"
   ]
  },
  {
   "cell_type": "code",
   "execution_count": null,
   "id": "d5982ce8",
   "metadata": {
    "scrolled": false
   },
   "outputs": [],
   "source": [
    "sales_wo_affhous_10yrs.tract.unique()"
   ]
  },
  {
   "cell_type": "code",
   "execution_count": null,
   "id": "bca4b0c4",
   "metadata": {},
   "outputs": [],
   "source": [
    "# will use this tract as a measure \n",
    "sales_wo_affhous_10yrs.loc[sales_wo_affhous_10yrs['tract'] == 15625]"
   ]
  },
  {
   "cell_type": "code",
   "execution_count": null,
   "id": "ab299ab2",
   "metadata": {
    "scrolled": true
   },
   "outputs": [],
   "source": [
    "sales_wo_affhous_10yrs['affhous'] = 'N'"
   ]
  },
  {
   "cell_type": "code",
   "execution_count": null,
   "id": "591864f7",
   "metadata": {},
   "outputs": [],
   "source": [
    "sales_wo_affhous_10yrs"
   ]
  },
  {
   "cell_type": "code",
   "execution_count": null,
   "id": "4027c560",
   "metadata": {},
   "outputs": [],
   "source": [
    "plt.figure(figsize = (15,9))\n",
    "sns.scatterplot(data = sales_with_affhous_10yrs, \n",
    "                x = 'saleyear',\n",
    "                y = 'saleamount', \n",
    "                hue = 'tract')\n",
    "plt.xticks(rotation = 90);"
   ]
  },
  {
   "cell_type": "code",
   "execution_count": null,
   "id": "81c9c82a",
   "metadata": {},
   "outputs": [],
   "source": [
    "sales_median_by_tract = pd.concat([sales_with_affhous_10yrs, sales_wo_affhous_10yrs], axis=0)"
   ]
  },
  {
   "cell_type": "code",
   "execution_count": null,
   "id": "ad03bf59",
   "metadata": {
    "scrolled": true
   },
   "outputs": [],
   "source": [
    "sales_median_by_tract"
   ]
  },
  {
   "cell_type": "code",
   "execution_count": null,
   "id": "e978bf4c",
   "metadata": {},
   "outputs": [],
   "source": [
    "sales_median_by_tract.dtypes"
   ]
  },
  {
   "cell_type": "markdown",
   "id": "1f792fd5",
   "metadata": {},
   "source": [
    "## compare growth of sale prices in last 10 years comaring 2 tracts with projects (most over all project buildings: 10903 and most projects/project units: 13700) with 2 tracts with out projects (made sure these tracks are similar in meadian hhinc to tracts w/ projects) both of these tracts are non surrounded by tracts with projects: 10802 and 15613\n",
    "\n",
    "### Monica suggested to make sure the tracts w and w/o affhous being compared have similar household income. (income comparisons of selected tracts are in price_growth_tracts notebook\n",
    "\n",
    "10903 and 10802 are right next to each other, and have similar growth trends w/ 10903 having steeper 10yr growth rate"
   ]
  },
  {
   "cell_type": "code",
   "execution_count": null,
   "id": "5991b178",
   "metadata": {},
   "outputs": [],
   "source": [
    "# sales meadian of selected tracts\n",
    "sales_median_sel_tracts = sales_median_by_tract.loc[sales_median_by_tract.tract.isin([10903, 13700, 10802, 15613])]"
   ]
  },
  {
   "cell_type": "code",
   "execution_count": null,
   "id": "8f845d37",
   "metadata": {},
   "outputs": [],
   "source": [
    "sales_median_sel_tracts"
   ]
  },
  {
   "cell_type": "code",
   "execution_count": null,
   "id": "ace9d3cf",
   "metadata": {},
   "outputs": [],
   "source": [
    "sales_median_sel_tracts.dtypes"
   ]
  },
  {
   "cell_type": "code",
   "execution_count": null,
   "id": "1612909e",
   "metadata": {
    "scrolled": true
   },
   "outputs": [],
   "source": [
    "for index, row in sales_median_sel_tracts.iterrows():\n",
    "    if row['saleyear'] > 2010:\n",
    "        prioryearrow = sales_median_sel_tracts.loc[sales_median_sel_tracts.saleyear == row['saleyear'] - 1]\n",
    "        priormedprice = prioryearrow.iloc[0,2]\n",
    "        sales_median_sel_tracts.loc[index, 'pctpricegrowth'] = 100 * (row['saleamount'] - priormedprice) / priormedprice"
   ]
  },
  {
   "cell_type": "code",
   "execution_count": null,
   "id": "f21464ca",
   "metadata": {
    "scrolled": true
   },
   "outputs": [],
   "source": [
    "sales_median_sel_tracts.head()"
   ]
  },
  {
   "cell_type": "code",
   "execution_count": null,
   "id": "0be30f39",
   "metadata": {},
   "outputs": [],
   "source": [
    "#figure out how to get rid of x label\n",
    "plt.figure(figsize = (16,10))\n",
    "ax = sns.lineplot(data = sales_median_sel_tracts,\n",
    "             x = 'saleyear',\n",
    "             y = 'saleamount',\n",
    "             marker = 'o',\n",
    "             markersize = 5,\n",
    "             hue = 'tract',\n",
    "             palette = ['#0F0064', '#F3C400', 'darkgoldenrod', '#948DBA'])\n",
    "\n",
    "plt.title('Annual Median Sale Price', fontsize = 26, fontweight = 'bold')\n",
    "plt.ylabel('Median Sale Price', fontsize='22', fontweight='bold')\n",
    "ax.set(xlabel = None)\n",
    "ax.yaxis.set_major_formatter(StrMethodFormatter('${x:,g}'));\n",
    "\n",
    "plt.legend(title = 'Tracts', labels = ['10802', '10903(AH)', '13700(AH)','15613'])\n",
    "\n",
    "#plt.savefig('../data/sel_annual_med_sale.png')"
   ]
  },
  {
   "cell_type": "code",
   "execution_count": null,
   "id": "fd43c7a7",
   "metadata": {},
   "outputs": [],
   "source": [
    "sales_median_sel_tracts.dtypes"
   ]
  },
  {
   "cell_type": "code",
   "execution_count": null,
   "id": "b4fb19e2",
   "metadata": {},
   "outputs": [],
   "source": [
    "# i could pick diff tracts if we decide we dont like these\n",
    "# dont know the reason for abnormal spike in tract 13700, but i checked the number of sales on these tracts in (way) above \n",
    "# cells and they have similar amount of sales per year\n",
    "# tract 15613 has less sales \n",
    "sel_tracts_grid = sns.FacetGrid(sales_median_sel_tracts, col = 'tract',\n",
    "                                hue = 'tract',\n",
    "                                palette = ['red', 'green', 'green', 'red'])\n",
    "sel_tracts_grid.map(sns.lineplot, 'saleyear', 'pctpricegrowth')"
   ]
  },
  {
   "cell_type": "code",
   "execution_count": null,
   "id": "05da8d66",
   "metadata": {},
   "outputs": [],
   "source": [
    "plt.figure(figsize = (10,6))\n",
    "ax = sns.lineplot(data = sales_median_sel_tracts,\n",
    "             x = 'saleyear',\n",
    "             y = 'pctpricegrowth',\n",
    "             marker = 'o',\n",
    "             markersize = 5,\n",
    "             hue = 'tract', \n",
    "             palette = ['#0F0064', '#F3C400', 'darkgoldenrod', '#948DBA'])\n",
    "\n",
    "plt.title('Annual Sale Price Growth', fontsize = 14, fontweight = 'bold')\n",
    "plt.ylabel('% Growth in Median Sale Price', fontsize='12', fontweight='bold')\n",
    "ax.set(xlabel = None)\n",
    "ax.yaxis.set_major_formatter('{x:1.0f}%');\n",
    "plt.legend(title = 'Tracts', labels = ['10802', '10903(AH)', '13700(AH)','15613'])\n",
    "\n",
    "#plt.savefig('../data/sel_ann_sale_growth.png')"
   ]
  },
  {
   "cell_type": "markdown",
   "id": "639a8435",
   "metadata": {},
   "source": [
    "# from 2011 - 2021 does the price growth differ in selected tracts?"
   ]
  },
  {
   "cell_type": "code",
   "execution_count": null,
   "id": "70c33a7b",
   "metadata": {},
   "outputs": [],
   "source": [
    "# bar graph of over all 10 year growth for selected tracts\n",
    "sales_median_sel_tracts.head()"
   ]
  },
  {
   "cell_type": "code",
   "execution_count": null,
   "id": "87d0b7b6",
   "metadata": {},
   "outputs": [],
   "source": [
    "growth10_sel_tracts = sales_median_sel_tracts.loc[sales_median_sel_tracts.saleyear == 2020]"
   ]
  },
  {
   "cell_type": "code",
   "execution_count": null,
   "id": "aa46a686",
   "metadata": {},
   "outputs": [],
   "source": [
    "for index, row in growth10_sel_tracts.iterrows():\n",
    "    medprice2010 = sales_median_sel_tracts.loc[(sales_median_sel_tracts.tract == row['tract'])\n",
    "                                               & (sales_median_sel_tracts.saleyear == 2010)].iloc[0,2]\n",
    "    growth10_sel_tracts.loc[index,'pctpricegrowth10yr'] = 100 * (row['saleamount'] - medprice2010) / medprice2010\n",
    "            "
   ]
  },
  {
   "cell_type": "code",
   "execution_count": null,
   "id": "ec443681",
   "metadata": {},
   "outputs": [],
   "source": [
    "growth10_sel_tracts.head()"
   ]
  },
  {
   "cell_type": "code",
   "execution_count": null,
   "id": "9caf27f9",
   "metadata": {},
   "outputs": [],
   "source": [
    "#verify i made the pctpricegrowth10yr column correctly\n",
    "sales_median_sel_tracts.loc[sales_median_sel_tracts.saleyear == 2011]"
   ]
  },
  {
   "cell_type": "code",
   "execution_count": null,
   "id": "fce438d1",
   "metadata": {},
   "outputs": [],
   "source": [
    "# checking 10903, yep its right\n",
    " # 100 * (345000.0 - 87750.0) / 87750.0"
   ]
  },
  {
   "cell_type": "code",
   "execution_count": null,
   "id": "fb1f4fed",
   "metadata": {
    "scrolled": true
   },
   "outputs": [],
   "source": [
    "#again i am not sure why 13700 is an outlier here, but either way having affhous doesnt seem to hinder \n",
    "# property value growth\n",
    "plt.figure(figsize = (10,6))\n",
    "ax = sns.barplot(data = growth10_sel_tracts,\n",
    "            x = 'tract',\n",
    "            y = 'pctpricegrowth10yr',\n",
    "            order = growth10_sel_tracts.sort_values('pctpricegrowth10yr').tract, \n",
    "            palette = ['#F3C400', '#948DBA', '#0F0064', 'darkgoldenrod'])\n",
    "\n",
    "plt.title('Sale Price Growth 2010-2020', fontsize = 14, fontweight = 'bold')\n",
    "plt.xlabel('Tract', fontsize='12', fontweight='bold')\n",
    "plt.ylabel('% Growth', fontsize='12', fontweight='bold')\n",
    "ax.yaxis.set_major_formatter('{x:1.0f}%')\n",
    "ax.set_xticklabels(['10903(AH)', '15163', '10802', '13700(AH)'])\n",
    ";\n",
    "\n",
    "#plt.savefig('../data/sale_growth_10yr.png')"
   ]
  },
  {
   "cell_type": "code",
   "execution_count": null,
   "id": "ac917645",
   "metadata": {},
   "outputs": [],
   "source": []
  }
 ],
 "metadata": {
  "kernelspec": {
   "display_name": "Python 3 (ipykernel)",
   "language": "python",
   "name": "python3"
  },
  "language_info": {
   "codemirror_mode": {
    "name": "ipython",
    "version": 3
   },
   "file_extension": ".py",
   "mimetype": "text/x-python",
   "name": "python",
   "nbconvert_exporter": "python",
   "pygments_lexer": "ipython3",
   "version": "3.9.7"
  }
 },
 "nbformat": 4,
 "nbformat_minor": 5
}
