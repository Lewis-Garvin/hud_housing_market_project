{
 "cells": [
  {
   "cell_type": "code",
   "execution_count": null,
   "id": "18352de4",
   "metadata": {},
   "outputs": [],
   "source": [
    "# dont forget to change environment to geospatial in anacondas prompt\n",
    "# before opening jupyter\n",
    "from shapely.geometry import Point\n",
    "import pandas as pd\n",
    "import geopandas as gpd\n",
    "import matplotlib.pyplot as plt\n",
    "import folium\n",
    "from folium.plugins import MarkerCluster\n",
    "from folium.plugins import FastMarkerCluster"
   ]
  },
  {
   "cell_type": "code",
   "execution_count": null,
   "id": "89b1e0c0",
   "metadata": {},
   "outputs": [],
   "source": [
    "loc_sales = pd.read_csv('../data/loc_sales.csv')"
   ]
  },
  {
   "cell_type": "code",
   "execution_count": null,
   "id": "16e37813",
   "metadata": {},
   "outputs": [],
   "source": [
    "tiger_df = gpd.read_file('../data/tl_2021_47_tract.shp')\n",
    "tiger_df = tiger_df.to_crs ('EPSG:4326')"
   ]
  },
  {
   "cell_type": "code",
   "execution_count": null,
   "id": "6866996d",
   "metadata": {},
   "outputs": [],
   "source": [
    "tiger_df.plot()"
   ]
  },
  {
   "cell_type": "code",
   "execution_count": null,
   "id": "255d8307",
   "metadata": {},
   "outputs": [],
   "source": [
    "davidson_loc = tiger_df.loc[(tiger_df.COUNTYFP == '037')]"
   ]
  },
  {
   "cell_type": "code",
   "execution_count": null,
   "id": "fadd2794",
   "metadata": {},
   "outputs": [],
   "source": [
    "davidson_loc.plot(figsize = (8, 10), color = 'lightgrey', edgecolor = 'black')"
   ]
  },
  {
   "cell_type": "code",
   "execution_count": null,
   "id": "713f18c6",
   "metadata": {},
   "outputs": [],
   "source": [
    "davidson_loc.head()"
   ]
  },
  {
   "cell_type": "code",
   "execution_count": null,
   "id": "73ff27b9",
   "metadata": {},
   "outputs": [],
   "source": [
    "davidson_loc['TRACTCE'] = davidson_loc['TRACTCE'].str[-5:]"
   ]
  },
  {
   "cell_type": "code",
   "execution_count": null,
   "id": "c96e2532",
   "metadata": {},
   "outputs": [],
   "source": [
    "# 13701 and 13702 are the location of 13700\n",
    "selected_tracts = davidson_loc.loc[davidson_loc.TRACTCE.isin(['10802', '10903', '13701','13702', '15613'])]"
   ]
  },
  {
   "cell_type": "code",
   "execution_count": null,
   "id": "79e0d7d5",
   "metadata": {
    "scrolled": true
   },
   "outputs": [],
   "source": [
    "selected_tracts.head()"
   ]
  },
  {
   "cell_type": "code",
   "execution_count": null,
   "id": "84b19750",
   "metadata": {},
   "outputs": [],
   "source": [
    "# making a column with colors for map\n",
    "selected_tracts['color'] = ['#F3C400', 'darkgoldenrod', 'darkgoldenrod', '#948DBA', '#0F0064']"
   ]
  },
  {
   "cell_type": "code",
   "execution_count": null,
   "id": "823cd799",
   "metadata": {},
   "outputs": [],
   "source": [
    "tract_map = davidson_loc.plot(figsize = (8, 10), color = 'whitesmoke', edgecolor = 'black')\n",
    "selected_tracts.plot(ax = tract_map, column = 'TRACTCE', color = selected_tracts['color'])\n",
    "\n",
    "#plt.savefig('../data/Davidson_sel_tracts.png', bbox_inches='tight')"
   ]
  },
  {
   "cell_type": "code",
   "execution_count": null,
   "id": "da2f3c18",
   "metadata": {},
   "outputs": [],
   "source": []
  }
 ],
 "metadata": {
  "kernelspec": {
   "display_name": "Python 3 (ipykernel)",
   "language": "python",
   "name": "python3"
  },
  "language_info": {
   "codemirror_mode": {
    "name": "ipython",
    "version": 3
   },
   "file_extension": ".py",
   "mimetype": "text/x-python",
   "name": "python",
   "nbconvert_exporter": "python",
   "pygments_lexer": "ipython3",
   "version": "3.8.5"
  }
 },
 "nbformat": 4,
 "nbformat_minor": 5
}
